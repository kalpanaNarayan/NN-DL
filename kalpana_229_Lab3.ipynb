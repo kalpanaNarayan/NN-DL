{
  "nbformat": 4,
  "nbformat_minor": 0,
  "metadata": {
    "colab": {
      "provenance": []
    },
    "kernelspec": {
      "name": "python3",
      "display_name": "Python 3"
    },
    "language_info": {
      "name": "python"
    }
  },
  "cells": [
    {
      "cell_type": "markdown",
      "source": [
        "# **MCA572– Neural Networks and Deep Learning**"
      ],
      "metadata": {
        "id": "iJ_AK69pCty1"
      }
    },
    {
      "cell_type": "markdown",
      "source": [
        "**Kalpana N**  \n",
        "**2347229**"
      ],
      "metadata": {
        "id": "0sHggT6EC0vh"
      }
    },
    {
      "cell_type": "markdown",
      "source": [],
      "metadata": {
        "id": "8kw54Ox2RXWW"
      }
    },
    {
      "cell_type": "markdown",
      "source": [
        "# **1. Data Preprocessing**"
      ],
      "metadata": {
        "id": "5Cai8x1mDSVw"
      }
    },
    {
      "cell_type": "markdown",
      "source": [
        "a. Load the CIFAR-10 Dataset"
      ],
      "metadata": {
        "id": "NcokdGgNDUg2"
      }
    },
    {
      "cell_type": "code",
      "source": [
        "import tensorflow as tf\n",
        "from tensorflow.keras.datasets import cifar10\n",
        "from tensorflow.keras.utils import to_categorical\n",
        "\n",
        "# Load CIFAR-10 data\n",
        "(X_train, y_train), (X_test, y_test) = cifar10.load_data()\n"
      ],
      "metadata": {
        "colab": {
          "base_uri": "https://localhost:8080/"
        },
        "id": "Q3_CdpHbxcsI",
        "outputId": "45229bd0-a122-49d3-c1d7-c571e860b887"
      },
      "execution_count": 1,
      "outputs": [
        {
          "output_type": "stream",
          "name": "stdout",
          "text": [
            "Downloading data from https://www.cs.toronto.edu/~kriz/cifar-10-python.tar.gz\n",
            "\u001b[1m170498071/170498071\u001b[0m \u001b[32m━━━━━━━━━━━━━━━━━━━━\u001b[0m\u001b[37m\u001b[0m \u001b[1m4s\u001b[0m 0us/step\n"
          ]
        }
      ]
    },
    {
      "cell_type": "markdown",
      "source": [
        "b. Normalize Pixel Values"
      ],
      "metadata": {
        "id": "b2noHQnbDwXT"
      }
    },
    {
      "cell_type": "code",
      "source": [
        "X_train = X_train.astype('float32') / 255.0\n",
        "X_test = X_test.astype('float32') / 255.0\n"
      ],
      "metadata": {
        "id": "pxItY08HxSA5"
      },
      "execution_count": 2,
      "outputs": []
    },
    {
      "cell_type": "markdown",
      "source": [
        "c. One-Hot Encoding for Labels\n"
      ],
      "metadata": {
        "id": "pbuSUoKVDzav"
      }
    },
    {
      "cell_type": "code",
      "source": [
        "y_train = to_categorical(y_train, 10)\n",
        "y_test = to_categorical(y_test, 10)\n"
      ],
      "metadata": {
        "id": "puvhwDsYD0kg"
      },
      "execution_count": 3,
      "outputs": []
    },
    {
      "cell_type": "code",
      "source": [
        "print(X_train.shape, y_train.shape)\n",
        "print(X_test.shape, y_test.shape)\n"
      ],
      "metadata": {
        "colab": {
          "base_uri": "https://localhost:8080/"
        },
        "id": "bnnGAe4kELsX",
        "outputId": "705b96d6-3262-49a4-b48d-b0ae3a888a96"
      },
      "execution_count": 4,
      "outputs": [
        {
          "output_type": "stream",
          "name": "stdout",
          "text": [
            "(50000, 32, 32, 3) (50000, 10)\n",
            "(10000, 32, 32, 3) (10000, 10)\n"
          ]
        }
      ]
    },
    {
      "cell_type": "markdown",
      "source": [
        "d. Data Augmentation (Optional)\n"
      ],
      "metadata": {
        "id": "IW18uBQ_D5j-"
      }
    },
    {
      "cell_type": "code",
      "source": [
        "from tensorflow.keras.preprocessing.image import ImageDataGenerator\n",
        "\n",
        "datagen = ImageDataGenerator(\n",
        "    rotation_range=15,\n",
        "    width_shift_range=0.1,\n",
        "    height_shift_range=0.1,\n",
        "    horizontal_flip=True\n",
        ")\n",
        "datagen.fit(X_train)\n"
      ],
      "metadata": {
        "id": "tw0gmniMD7SK"
      },
      "execution_count": 5,
      "outputs": []
    },
    {
      "cell_type": "markdown",
      "source": [
        "#  **2. Network Architecture Design**\n"
      ],
      "metadata": {
        "id": "Oup-5egIFA7X"
      }
    },
    {
      "cell_type": "code",
      "source": [
        "from tensorflow.keras.models import Sequential\n",
        "from tensorflow.keras.layers import Conv2D, MaxPooling2D, Flatten, Dense, Dropout\n",
        "\n",
        "model = Sequential()\n",
        "\n",
        "# Input layer (32x32x3 image)\n",
        "model.add(Conv2D(32, (3, 3), activation='relu', input_shape=(32, 32, 3)))\n",
        "model.add(MaxPooling2D(pool_size=(2, 2)))\n",
        "model.add(Dropout(0.25))\n",
        "\n",
        "# Hidden layer 1\n",
        "model.add(Conv2D(64, (3, 3), activation='relu'))\n",
        "model.add(MaxPooling2D(pool_size=(2, 2)))\n",
        "model.add(Dropout(0.25))\n",
        "\n",
        "# Hidden layer 2\n",
        "model.add(Conv2D(128, (3, 3), activation='relu'))\n",
        "model.add(MaxPooling2D(pool_size=(2, 2)))\n",
        "\n",
        "# Flatten layer\n",
        "model.add(Flatten())\n",
        "\n",
        "# Fully connected layer\n",
        "model.add(Dense(256, activation='relu'))\n",
        "model.add(Dropout(0.5))\n",
        "\n",
        "# Output layer (10 classes)\n",
        "model.add(Dense(10, activation='softmax'))\n"
      ],
      "metadata": {
        "colab": {
          "base_uri": "https://localhost:8080/"
        },
        "id": "Tn5mGl6tFBUH",
        "outputId": "f8509e42-b299-4c94-a931-0432ebf54e58"
      },
      "execution_count": 6,
      "outputs": [
        {
          "output_type": "stream",
          "name": "stderr",
          "text": [
            "/usr/local/lib/python3.10/dist-packages/keras/src/layers/convolutional/base_conv.py:107: UserWarning: Do not pass an `input_shape`/`input_dim` argument to a layer. When using Sequential models, prefer using an `Input(shape)` object as the first layer in the model instead.\n",
            "  super().__init__(activity_regularizer=activity_regularizer, **kwargs)\n"
          ]
        }
      ]
    },
    {
      "cell_type": "code",
      "source": [
        "# Display the model summary\n",
        "model.summary()\n"
      ],
      "metadata": {
        "colab": {
          "base_uri": "https://localhost:8080/",
          "height": 536
        },
        "id": "2bEKGK-SFy_x",
        "outputId": "78e323ae-c871-44d6-ff6f-b0ab4e256993"
      },
      "execution_count": 7,
      "outputs": [
        {
          "output_type": "display_data",
          "data": {
            "text/plain": [
              "\u001b[1mModel: \"sequential\"\u001b[0m\n"
            ],
            "text/html": [
              "<pre style=\"white-space:pre;overflow-x:auto;line-height:normal;font-family:Menlo,'DejaVu Sans Mono',consolas,'Courier New',monospace\"><span style=\"font-weight: bold\">Model: \"sequential\"</span>\n",
              "</pre>\n"
            ]
          },
          "metadata": {}
        },
        {
          "output_type": "display_data",
          "data": {
            "text/plain": [
              "┏━━━━━━━━━━━━━━━━━━━━━━━━━━━━━━━━━━━━━━┳━━━━━━━━━━━━━━━━━━━━━━━━━━━━━┳━━━━━━━━━━━━━━━━━┓\n",
              "┃\u001b[1m \u001b[0m\u001b[1mLayer (type)                        \u001b[0m\u001b[1m \u001b[0m┃\u001b[1m \u001b[0m\u001b[1mOutput Shape               \u001b[0m\u001b[1m \u001b[0m┃\u001b[1m \u001b[0m\u001b[1m        Param #\u001b[0m\u001b[1m \u001b[0m┃\n",
              "┡━━━━━━━━━━━━━━━━━━━━━━━━━━━━━━━━━━━━━━╇━━━━━━━━━━━━━━━━━━━━━━━━━━━━━╇━━━━━━━━━━━━━━━━━┩\n",
              "│ conv2d (\u001b[38;5;33mConv2D\u001b[0m)                      │ (\u001b[38;5;45mNone\u001b[0m, \u001b[38;5;34m30\u001b[0m, \u001b[38;5;34m30\u001b[0m, \u001b[38;5;34m32\u001b[0m)          │             \u001b[38;5;34m896\u001b[0m │\n",
              "├──────────────────────────────────────┼─────────────────────────────┼─────────────────┤\n",
              "│ max_pooling2d (\u001b[38;5;33mMaxPooling2D\u001b[0m)         │ (\u001b[38;5;45mNone\u001b[0m, \u001b[38;5;34m15\u001b[0m, \u001b[38;5;34m15\u001b[0m, \u001b[38;5;34m32\u001b[0m)          │               \u001b[38;5;34m0\u001b[0m │\n",
              "├──────────────────────────────────────┼─────────────────────────────┼─────────────────┤\n",
              "│ dropout (\u001b[38;5;33mDropout\u001b[0m)                    │ (\u001b[38;5;45mNone\u001b[0m, \u001b[38;5;34m15\u001b[0m, \u001b[38;5;34m15\u001b[0m, \u001b[38;5;34m32\u001b[0m)          │               \u001b[38;5;34m0\u001b[0m │\n",
              "├──────────────────────────────────────┼─────────────────────────────┼─────────────────┤\n",
              "│ conv2d_1 (\u001b[38;5;33mConv2D\u001b[0m)                    │ (\u001b[38;5;45mNone\u001b[0m, \u001b[38;5;34m13\u001b[0m, \u001b[38;5;34m13\u001b[0m, \u001b[38;5;34m64\u001b[0m)          │          \u001b[38;5;34m18,496\u001b[0m │\n",
              "├──────────────────────────────────────┼─────────────────────────────┼─────────────────┤\n",
              "│ max_pooling2d_1 (\u001b[38;5;33mMaxPooling2D\u001b[0m)       │ (\u001b[38;5;45mNone\u001b[0m, \u001b[38;5;34m6\u001b[0m, \u001b[38;5;34m6\u001b[0m, \u001b[38;5;34m64\u001b[0m)            │               \u001b[38;5;34m0\u001b[0m │\n",
              "├──────────────────────────────────────┼─────────────────────────────┼─────────────────┤\n",
              "│ dropout_1 (\u001b[38;5;33mDropout\u001b[0m)                  │ (\u001b[38;5;45mNone\u001b[0m, \u001b[38;5;34m6\u001b[0m, \u001b[38;5;34m6\u001b[0m, \u001b[38;5;34m64\u001b[0m)            │               \u001b[38;5;34m0\u001b[0m │\n",
              "├──────────────────────────────────────┼─────────────────────────────┼─────────────────┤\n",
              "│ conv2d_2 (\u001b[38;5;33mConv2D\u001b[0m)                    │ (\u001b[38;5;45mNone\u001b[0m, \u001b[38;5;34m4\u001b[0m, \u001b[38;5;34m4\u001b[0m, \u001b[38;5;34m128\u001b[0m)           │          \u001b[38;5;34m73,856\u001b[0m │\n",
              "├──────────────────────────────────────┼─────────────────────────────┼─────────────────┤\n",
              "│ max_pooling2d_2 (\u001b[38;5;33mMaxPooling2D\u001b[0m)       │ (\u001b[38;5;45mNone\u001b[0m, \u001b[38;5;34m2\u001b[0m, \u001b[38;5;34m2\u001b[0m, \u001b[38;5;34m128\u001b[0m)           │               \u001b[38;5;34m0\u001b[0m │\n",
              "├──────────────────────────────────────┼─────────────────────────────┼─────────────────┤\n",
              "│ flatten (\u001b[38;5;33mFlatten\u001b[0m)                    │ (\u001b[38;5;45mNone\u001b[0m, \u001b[38;5;34m512\u001b[0m)                 │               \u001b[38;5;34m0\u001b[0m │\n",
              "├──────────────────────────────────────┼─────────────────────────────┼─────────────────┤\n",
              "│ dense (\u001b[38;5;33mDense\u001b[0m)                        │ (\u001b[38;5;45mNone\u001b[0m, \u001b[38;5;34m256\u001b[0m)                 │         \u001b[38;5;34m131,328\u001b[0m │\n",
              "├──────────────────────────────────────┼─────────────────────────────┼─────────────────┤\n",
              "│ dropout_2 (\u001b[38;5;33mDropout\u001b[0m)                  │ (\u001b[38;5;45mNone\u001b[0m, \u001b[38;5;34m256\u001b[0m)                 │               \u001b[38;5;34m0\u001b[0m │\n",
              "├──────────────────────────────────────┼─────────────────────────────┼─────────────────┤\n",
              "│ dense_1 (\u001b[38;5;33mDense\u001b[0m)                      │ (\u001b[38;5;45mNone\u001b[0m, \u001b[38;5;34m10\u001b[0m)                  │           \u001b[38;5;34m2,570\u001b[0m │\n",
              "└──────────────────────────────────────┴─────────────────────────────┴─────────────────┘\n"
            ],
            "text/html": [
              "<pre style=\"white-space:pre;overflow-x:auto;line-height:normal;font-family:Menlo,'DejaVu Sans Mono',consolas,'Courier New',monospace\">┏━━━━━━━━━━━━━━━━━━━━━━━━━━━━━━━━━━━━━━┳━━━━━━━━━━━━━━━━━━━━━━━━━━━━━┳━━━━━━━━━━━━━━━━━┓\n",
              "┃<span style=\"font-weight: bold\"> Layer (type)                         </span>┃<span style=\"font-weight: bold\"> Output Shape                </span>┃<span style=\"font-weight: bold\">         Param # </span>┃\n",
              "┡━━━━━━━━━━━━━━━━━━━━━━━━━━━━━━━━━━━━━━╇━━━━━━━━━━━━━━━━━━━━━━━━━━━━━╇━━━━━━━━━━━━━━━━━┩\n",
              "│ conv2d (<span style=\"color: #0087ff; text-decoration-color: #0087ff\">Conv2D</span>)                      │ (<span style=\"color: #00d7ff; text-decoration-color: #00d7ff\">None</span>, <span style=\"color: #00af00; text-decoration-color: #00af00\">30</span>, <span style=\"color: #00af00; text-decoration-color: #00af00\">30</span>, <span style=\"color: #00af00; text-decoration-color: #00af00\">32</span>)          │             <span style=\"color: #00af00; text-decoration-color: #00af00\">896</span> │\n",
              "├──────────────────────────────────────┼─────────────────────────────┼─────────────────┤\n",
              "│ max_pooling2d (<span style=\"color: #0087ff; text-decoration-color: #0087ff\">MaxPooling2D</span>)         │ (<span style=\"color: #00d7ff; text-decoration-color: #00d7ff\">None</span>, <span style=\"color: #00af00; text-decoration-color: #00af00\">15</span>, <span style=\"color: #00af00; text-decoration-color: #00af00\">15</span>, <span style=\"color: #00af00; text-decoration-color: #00af00\">32</span>)          │               <span style=\"color: #00af00; text-decoration-color: #00af00\">0</span> │\n",
              "├──────────────────────────────────────┼─────────────────────────────┼─────────────────┤\n",
              "│ dropout (<span style=\"color: #0087ff; text-decoration-color: #0087ff\">Dropout</span>)                    │ (<span style=\"color: #00d7ff; text-decoration-color: #00d7ff\">None</span>, <span style=\"color: #00af00; text-decoration-color: #00af00\">15</span>, <span style=\"color: #00af00; text-decoration-color: #00af00\">15</span>, <span style=\"color: #00af00; text-decoration-color: #00af00\">32</span>)          │               <span style=\"color: #00af00; text-decoration-color: #00af00\">0</span> │\n",
              "├──────────────────────────────────────┼─────────────────────────────┼─────────────────┤\n",
              "│ conv2d_1 (<span style=\"color: #0087ff; text-decoration-color: #0087ff\">Conv2D</span>)                    │ (<span style=\"color: #00d7ff; text-decoration-color: #00d7ff\">None</span>, <span style=\"color: #00af00; text-decoration-color: #00af00\">13</span>, <span style=\"color: #00af00; text-decoration-color: #00af00\">13</span>, <span style=\"color: #00af00; text-decoration-color: #00af00\">64</span>)          │          <span style=\"color: #00af00; text-decoration-color: #00af00\">18,496</span> │\n",
              "├──────────────────────────────────────┼─────────────────────────────┼─────────────────┤\n",
              "│ max_pooling2d_1 (<span style=\"color: #0087ff; text-decoration-color: #0087ff\">MaxPooling2D</span>)       │ (<span style=\"color: #00d7ff; text-decoration-color: #00d7ff\">None</span>, <span style=\"color: #00af00; text-decoration-color: #00af00\">6</span>, <span style=\"color: #00af00; text-decoration-color: #00af00\">6</span>, <span style=\"color: #00af00; text-decoration-color: #00af00\">64</span>)            │               <span style=\"color: #00af00; text-decoration-color: #00af00\">0</span> │\n",
              "├──────────────────────────────────────┼─────────────────────────────┼─────────────────┤\n",
              "│ dropout_1 (<span style=\"color: #0087ff; text-decoration-color: #0087ff\">Dropout</span>)                  │ (<span style=\"color: #00d7ff; text-decoration-color: #00d7ff\">None</span>, <span style=\"color: #00af00; text-decoration-color: #00af00\">6</span>, <span style=\"color: #00af00; text-decoration-color: #00af00\">6</span>, <span style=\"color: #00af00; text-decoration-color: #00af00\">64</span>)            │               <span style=\"color: #00af00; text-decoration-color: #00af00\">0</span> │\n",
              "├──────────────────────────────────────┼─────────────────────────────┼─────────────────┤\n",
              "│ conv2d_2 (<span style=\"color: #0087ff; text-decoration-color: #0087ff\">Conv2D</span>)                    │ (<span style=\"color: #00d7ff; text-decoration-color: #00d7ff\">None</span>, <span style=\"color: #00af00; text-decoration-color: #00af00\">4</span>, <span style=\"color: #00af00; text-decoration-color: #00af00\">4</span>, <span style=\"color: #00af00; text-decoration-color: #00af00\">128</span>)           │          <span style=\"color: #00af00; text-decoration-color: #00af00\">73,856</span> │\n",
              "├──────────────────────────────────────┼─────────────────────────────┼─────────────────┤\n",
              "│ max_pooling2d_2 (<span style=\"color: #0087ff; text-decoration-color: #0087ff\">MaxPooling2D</span>)       │ (<span style=\"color: #00d7ff; text-decoration-color: #00d7ff\">None</span>, <span style=\"color: #00af00; text-decoration-color: #00af00\">2</span>, <span style=\"color: #00af00; text-decoration-color: #00af00\">2</span>, <span style=\"color: #00af00; text-decoration-color: #00af00\">128</span>)           │               <span style=\"color: #00af00; text-decoration-color: #00af00\">0</span> │\n",
              "├──────────────────────────────────────┼─────────────────────────────┼─────────────────┤\n",
              "│ flatten (<span style=\"color: #0087ff; text-decoration-color: #0087ff\">Flatten</span>)                    │ (<span style=\"color: #00d7ff; text-decoration-color: #00d7ff\">None</span>, <span style=\"color: #00af00; text-decoration-color: #00af00\">512</span>)                 │               <span style=\"color: #00af00; text-decoration-color: #00af00\">0</span> │\n",
              "├──────────────────────────────────────┼─────────────────────────────┼─────────────────┤\n",
              "│ dense (<span style=\"color: #0087ff; text-decoration-color: #0087ff\">Dense</span>)                        │ (<span style=\"color: #00d7ff; text-decoration-color: #00d7ff\">None</span>, <span style=\"color: #00af00; text-decoration-color: #00af00\">256</span>)                 │         <span style=\"color: #00af00; text-decoration-color: #00af00\">131,328</span> │\n",
              "├──────────────────────────────────────┼─────────────────────────────┼─────────────────┤\n",
              "│ dropout_2 (<span style=\"color: #0087ff; text-decoration-color: #0087ff\">Dropout</span>)                  │ (<span style=\"color: #00d7ff; text-decoration-color: #00d7ff\">None</span>, <span style=\"color: #00af00; text-decoration-color: #00af00\">256</span>)                 │               <span style=\"color: #00af00; text-decoration-color: #00af00\">0</span> │\n",
              "├──────────────────────────────────────┼─────────────────────────────┼─────────────────┤\n",
              "│ dense_1 (<span style=\"color: #0087ff; text-decoration-color: #0087ff\">Dense</span>)                      │ (<span style=\"color: #00d7ff; text-decoration-color: #00d7ff\">None</span>, <span style=\"color: #00af00; text-decoration-color: #00af00\">10</span>)                  │           <span style=\"color: #00af00; text-decoration-color: #00af00\">2,570</span> │\n",
              "└──────────────────────────────────────┴─────────────────────────────┴─────────────────┘\n",
              "</pre>\n"
            ]
          },
          "metadata": {}
        },
        {
          "output_type": "display_data",
          "data": {
            "text/plain": [
              "\u001b[1m Total params: \u001b[0m\u001b[38;5;34m227,146\u001b[0m (887.29 KB)\n"
            ],
            "text/html": [
              "<pre style=\"white-space:pre;overflow-x:auto;line-height:normal;font-family:Menlo,'DejaVu Sans Mono',consolas,'Courier New',monospace\"><span style=\"font-weight: bold\"> Total params: </span><span style=\"color: #00af00; text-decoration-color: #00af00\">227,146</span> (887.29 KB)\n",
              "</pre>\n"
            ]
          },
          "metadata": {}
        },
        {
          "output_type": "display_data",
          "data": {
            "text/plain": [
              "\u001b[1m Trainable params: \u001b[0m\u001b[38;5;34m227,146\u001b[0m (887.29 KB)\n"
            ],
            "text/html": [
              "<pre style=\"white-space:pre;overflow-x:auto;line-height:normal;font-family:Menlo,'DejaVu Sans Mono',consolas,'Courier New',monospace\"><span style=\"font-weight: bold\"> Trainable params: </span><span style=\"color: #00af00; text-decoration-color: #00af00\">227,146</span> (887.29 KB)\n",
              "</pre>\n"
            ]
          },
          "metadata": {}
        },
        {
          "output_type": "display_data",
          "data": {
            "text/plain": [
              "\u001b[1m Non-trainable params: \u001b[0m\u001b[38;5;34m0\u001b[0m (0.00 B)\n"
            ],
            "text/html": [
              "<pre style=\"white-space:pre;overflow-x:auto;line-height:normal;font-family:Menlo,'DejaVu Sans Mono',consolas,'Courier New',monospace\"><span style=\"font-weight: bold\"> Non-trainable params: </span><span style=\"color: #00af00; text-decoration-color: #00af00\">0</span> (0.00 B)\n",
              "</pre>\n"
            ]
          },
          "metadata": {}
        }
      ]
    },
    {
      "cell_type": "markdown",
      "source": [
        "**Question1:**\n",
        "**Justify your choice of network architecture, including the number of layers, types of layers, and the number of neurons/filters in each layer.**  \n",
        "\n",
        "**Justification**  \n",
        "1.Convolutional Layers:Used To capture spatial hierarchies in images.  \n",
        "2.MaxPooling: To reduce spatial dimensions and computational load.  \n",
        "3.Dropout: To prevent overfitting.  \n",
        "4.Fully Connected Layer: For classification.    \n",
        "5.Softmax Output Layer: Converts logits into probabilities for multi-class classification.  \n",
        "\n"
      ],
      "metadata": {
        "id": "ad0A3Oo-Fiam"
      }
    },
    {
      "cell_type": "markdown",
      "source": [
        "The network architecture starts with 32 filters to capture basic image features, gradually increasing to 64 and 128 filters for more complex patterns.Max pooling layers reduce the spatial dimensions, making computations efficient, while dropout layers (0.25 and 0.5) prevent overfitting. The fully connected layer with 256 neurons consolidates these features, and the softmax output layer classifies images into one of 10 classes. This design effectively balances feature extraction and generalization for CIFAR-10 classification."
      ],
      "metadata": {
        "id": "I9qYs9O8GemX"
      }
    },
    {
      "cell_type": "markdown",
      "source": [
        "# **3. Activation Functions**"
      ],
      "metadata": {
        "id": "L8jMDlXlHy7z"
      }
    },
    {
      "cell_type": "markdown",
      "source": [
        "**ReLU:**  \n",
        "ReLU is chosen for hidden layers as it helps avoid the vanishing gradient problem and speeds up training by passing gradients for positive inputs while ignoring negative ones, reducing unnecessary computations.\n",
        "\n",
        "**Softmax:**  \n",
        "Softmax is used in the output layer to generate probabilities for multi-class classification, ensuring the outputs sum to one and aiding in efficient weight updates during backpropagation."
      ],
      "metadata": {
        "id": "HyCj3ggII6h3"
      }
    },
    {
      "cell_type": "markdown",
      "source": [
        "# **4. Loss Function and Optimizer**"
      ],
      "metadata": {
        "id": "3aKry1pMJino"
      }
    },
    {
      "cell_type": "markdown",
      "source": [
        "a. Loss Functions"
      ],
      "metadata": {
        "id": "_2SnR9VRJnNW"
      }
    },
    {
      "cell_type": "code",
      "source": [
        "model.compile(loss='categorical_crossentropy', optimizer='adam', metrics=['accuracy'])\n"
      ],
      "metadata": {
        "id": "Q0YM-f8DJQZY"
      },
      "execution_count": 8,
      "outputs": []
    },
    {
      "cell_type": "markdown",
      "source": [
        "b. Optimizer"
      ],
      "metadata": {
        "id": "V0kfTjcpJu9d"
      }
    },
    {
      "cell_type": "markdown",
      "source": [
        "We use Adam as it adapts the learning rate and converges faster than traditional gradient descent.   \n",
        "\n",
        "Learning Rate: Affects how large the steps are in updating weights. A learning rate too high may cause the model to overshoot; too low, and it might take too long to converge."
      ],
      "metadata": {
        "id": "lWg6FXTnJxSQ"
      }
    },
    {
      "cell_type": "markdown",
      "source": [
        "**Question:**  \n",
        "How does the choice of optimizer and learning rate influence the\n",
        "convergence of the network? How would you adjust the learning rate if the\n",
        "model is not converging properly?   \n",
        "\n",
        "**Answer**  \n",
        "The optimizer and learning rate are crucial for network convergence, as they dictate weight updates during training. If the model fails to converge, I would reduce the learning rate or use adaptive methods to stabilize training."
      ],
      "metadata": {
        "id": "pUmEnu1jrbMn"
      }
    },
    {
      "cell_type": "markdown",
      "source": [
        "# **5. Training the Model**"
      ],
      "metadata": {
        "id": "I0LwqpryJ7lH"
      }
    },
    {
      "cell_type": "code",
      "source": [
        "history = model.fit(datagen.flow(X_train, y_train, batch_size=64),\n",
        "                    epochs=50,\n",
        "                    validation_data=(X_test, y_test),\n",
        "                    verbose=2)\n"
      ],
      "metadata": {
        "colab": {
          "base_uri": "https://localhost:8080/"
        },
        "id": "9_a6mrsiJ3GX",
        "outputId": "e3a3daa7-656c-47c1-f2d8-48c28c9aab85"
      },
      "execution_count": 9,
      "outputs": [
        {
          "output_type": "stream",
          "name": "stdout",
          "text": [
            "Epoch 1/50\n"
          ]
        },
        {
          "output_type": "stream",
          "name": "stderr",
          "text": [
            "/usr/local/lib/python3.10/dist-packages/keras/src/trainers/data_adapters/py_dataset_adapter.py:121: UserWarning: Your `PyDataset` class should call `super().__init__(**kwargs)` in its constructor. `**kwargs` can include `workers`, `use_multiprocessing`, `max_queue_size`. Do not pass these arguments to `fit()`, as they will be ignored.\n",
            "  self._warn_if_super_not_called()\n"
          ]
        },
        {
          "output_type": "stream",
          "name": "stdout",
          "text": [
            "782/782 - 107s - 136ms/step - accuracy: 0.3357 - loss: 1.7841 - val_accuracy: 0.4888 - val_loss: 1.4134\n",
            "Epoch 2/50\n",
            "782/782 - 96s - 123ms/step - accuracy: 0.4613 - loss: 1.4799 - val_accuracy: 0.5663 - val_loss: 1.2291\n",
            "Epoch 3/50\n",
            "782/782 - 95s - 121ms/step - accuracy: 0.5188 - loss: 1.3484 - val_accuracy: 0.6029 - val_loss: 1.1339\n",
            "Epoch 4/50\n",
            "782/782 - 144s - 184ms/step - accuracy: 0.5525 - loss: 1.2673 - val_accuracy: 0.5940 - val_loss: 1.1520\n",
            "Epoch 5/50\n",
            "782/782 - 140s - 179ms/step - accuracy: 0.5706 - loss: 1.2111 - val_accuracy: 0.6548 - val_loss: 0.9828\n",
            "Epoch 6/50\n",
            "782/782 - 95s - 122ms/step - accuracy: 0.5905 - loss: 1.1600 - val_accuracy: 0.6573 - val_loss: 0.9692\n",
            "Epoch 7/50\n",
            "782/782 - 95s - 121ms/step - accuracy: 0.6038 - loss: 1.1326 - val_accuracy: 0.6768 - val_loss: 0.9147\n",
            "Epoch 8/50\n",
            "782/782 - 96s - 123ms/step - accuracy: 0.6102 - loss: 1.1073 - val_accuracy: 0.6966 - val_loss: 0.8746\n",
            "Epoch 9/50\n",
            "782/782 - 143s - 183ms/step - accuracy: 0.6237 - loss: 1.0772 - val_accuracy: 0.6912 - val_loss: 0.8746\n",
            "Epoch 10/50\n",
            "782/782 - 97s - 124ms/step - accuracy: 0.6274 - loss: 1.0617 - val_accuracy: 0.6832 - val_loss: 0.8916\n",
            "Epoch 11/50\n",
            "782/782 - 140s - 179ms/step - accuracy: 0.6348 - loss: 1.0461 - val_accuracy: 0.7035 - val_loss: 0.8458\n",
            "Epoch 12/50\n",
            "782/782 - 95s - 122ms/step - accuracy: 0.6396 - loss: 1.0350 - val_accuracy: 0.6837 - val_loss: 0.9065\n",
            "Epoch 13/50\n",
            "782/782 - 142s - 181ms/step - accuracy: 0.6454 - loss: 1.0179 - val_accuracy: 0.6989 - val_loss: 0.8512\n",
            "Epoch 14/50\n",
            "782/782 - 96s - 122ms/step - accuracy: 0.6490 - loss: 1.0083 - val_accuracy: 0.7182 - val_loss: 0.8111\n",
            "Epoch 15/50\n",
            "782/782 - 96s - 122ms/step - accuracy: 0.6538 - loss: 0.9965 - val_accuracy: 0.7215 - val_loss: 0.8122\n",
            "Epoch 16/50\n",
            "782/782 - 141s - 180ms/step - accuracy: 0.6586 - loss: 0.9861 - val_accuracy: 0.6967 - val_loss: 0.8652\n",
            "Epoch 17/50\n",
            "782/782 - 142s - 182ms/step - accuracy: 0.6596 - loss: 0.9779 - val_accuracy: 0.7131 - val_loss: 0.8187\n",
            "Epoch 18/50\n",
            "782/782 - 94s - 121ms/step - accuracy: 0.6636 - loss: 0.9699 - val_accuracy: 0.7311 - val_loss: 0.7718\n",
            "Epoch 19/50\n",
            "782/782 - 95s - 121ms/step - accuracy: 0.6636 - loss: 0.9631 - val_accuracy: 0.7098 - val_loss: 0.8381\n",
            "Epoch 20/50\n",
            "782/782 - 141s - 180ms/step - accuracy: 0.6658 - loss: 0.9605 - val_accuracy: 0.7290 - val_loss: 0.7783\n",
            "Epoch 21/50\n",
            "782/782 - 142s - 182ms/step - accuracy: 0.6704 - loss: 0.9447 - val_accuracy: 0.7342 - val_loss: 0.7650\n",
            "Epoch 22/50\n",
            "782/782 - 94s - 121ms/step - accuracy: 0.6722 - loss: 0.9398 - val_accuracy: 0.7281 - val_loss: 0.7808\n",
            "Epoch 23/50\n",
            "782/782 - 95s - 121ms/step - accuracy: 0.6759 - loss: 0.9302 - val_accuracy: 0.7124 - val_loss: 0.8287\n",
            "Epoch 24/50\n",
            "782/782 - 96s - 122ms/step - accuracy: 0.6772 - loss: 0.9306 - val_accuracy: 0.7475 - val_loss: 0.7232\n",
            "Epoch 25/50\n",
            "782/782 - 141s - 180ms/step - accuracy: 0.6784 - loss: 0.9250 - val_accuracy: 0.7480 - val_loss: 0.7168\n",
            "Epoch 26/50\n",
            "782/782 - 142s - 181ms/step - accuracy: 0.6779 - loss: 0.9189 - val_accuracy: 0.7347 - val_loss: 0.7609\n",
            "Epoch 27/50\n",
            "782/782 - 142s - 182ms/step - accuracy: 0.6813 - loss: 0.9130 - val_accuracy: 0.7292 - val_loss: 0.7673\n",
            "Epoch 28/50\n",
            "782/782 - 95s - 121ms/step - accuracy: 0.6857 - loss: 0.9039 - val_accuracy: 0.7502 - val_loss: 0.7208\n",
            "Epoch 29/50\n",
            "782/782 - 94s - 120ms/step - accuracy: 0.6887 - loss: 0.8969 - val_accuracy: 0.7472 - val_loss: 0.7300\n",
            "Epoch 30/50\n",
            "782/782 - 94s - 120ms/step - accuracy: 0.6907 - loss: 0.8946 - val_accuracy: 0.7444 - val_loss: 0.7377\n",
            "Epoch 31/50\n",
            "782/782 - 142s - 181ms/step - accuracy: 0.6922 - loss: 0.8848 - val_accuracy: 0.7575 - val_loss: 0.7099\n",
            "Epoch 32/50\n",
            "782/782 - 142s - 182ms/step - accuracy: 0.6936 - loss: 0.8845 - val_accuracy: 0.7443 - val_loss: 0.7528\n",
            "Epoch 33/50\n",
            "782/782 - 95s - 121ms/step - accuracy: 0.6925 - loss: 0.8860 - val_accuracy: 0.7570 - val_loss: 0.7040\n",
            "Epoch 34/50\n",
            "782/782 - 95s - 122ms/step - accuracy: 0.6960 - loss: 0.8781 - val_accuracy: 0.7379 - val_loss: 0.7560\n",
            "Epoch 35/50\n",
            "782/782 - 96s - 122ms/step - accuracy: 0.6955 - loss: 0.8731 - val_accuracy: 0.7529 - val_loss: 0.7165\n",
            "Epoch 36/50\n",
            "782/782 - 143s - 183ms/step - accuracy: 0.6991 - loss: 0.8703 - val_accuracy: 0.7612 - val_loss: 0.6863\n",
            "Epoch 37/50\n",
            "782/782 - 97s - 124ms/step - accuracy: 0.6998 - loss: 0.8690 - val_accuracy: 0.7403 - val_loss: 0.7548\n",
            "Epoch 38/50\n",
            "782/782 - 97s - 124ms/step - accuracy: 0.6999 - loss: 0.8643 - val_accuracy: 0.7614 - val_loss: 0.6854\n",
            "Epoch 39/50\n",
            "782/782 - 140s - 179ms/step - accuracy: 0.7005 - loss: 0.8629 - val_accuracy: 0.7556 - val_loss: 0.7189\n",
            "Epoch 40/50\n",
            "782/782 - 97s - 124ms/step - accuracy: 0.7027 - loss: 0.8581 - val_accuracy: 0.7645 - val_loss: 0.6945\n",
            "Epoch 41/50\n",
            "782/782 - 141s - 180ms/step - accuracy: 0.7061 - loss: 0.8525 - val_accuracy: 0.7619 - val_loss: 0.6841\n",
            "Epoch 42/50\n",
            "782/782 - 96s - 123ms/step - accuracy: 0.7000 - loss: 0.8595 - val_accuracy: 0.7643 - val_loss: 0.6862\n",
            "Epoch 43/50\n",
            "782/782 - 96s - 122ms/step - accuracy: 0.7057 - loss: 0.8489 - val_accuracy: 0.7736 - val_loss: 0.6594\n",
            "Epoch 44/50\n",
            "782/782 - 96s - 123ms/step - accuracy: 0.7050 - loss: 0.8546 - val_accuracy: 0.7447 - val_loss: 0.7490\n",
            "Epoch 45/50\n",
            "782/782 - 95s - 122ms/step - accuracy: 0.7064 - loss: 0.8442 - val_accuracy: 0.7653 - val_loss: 0.6869\n",
            "Epoch 46/50\n",
            "782/782 - 143s - 182ms/step - accuracy: 0.7086 - loss: 0.8421 - val_accuracy: 0.7510 - val_loss: 0.7226\n",
            "Epoch 47/50\n",
            "782/782 - 95s - 122ms/step - accuracy: 0.7091 - loss: 0.8397 - val_accuracy: 0.7616 - val_loss: 0.6906\n",
            "Epoch 48/50\n",
            "782/782 - 142s - 181ms/step - accuracy: 0.7133 - loss: 0.8345 - val_accuracy: 0.7638 - val_loss: 0.6894\n",
            "Epoch 49/50\n",
            "782/782 - 142s - 182ms/step - accuracy: 0.7111 - loss: 0.8289 - val_accuracy: 0.7702 - val_loss: 0.6748\n",
            "Epoch 50/50\n",
            "782/782 - 95s - 122ms/step - accuracy: 0.7129 - loss: 0.8335 - val_accuracy: 0.7696 - val_loss: 0.6915\n"
          ]
        }
      ]
    },
    {
      "cell_type": "markdown",
      "source": [
        "**Question:**  \n",
        "How does backpropagation update the weights in each layer, and what\n",
        "role does the learning rate play in this process?\n",
        "\n",
        "**Explanation of Backpropagation:**  \n",
        "\n",
        "Weight Updates: During each iteration, the gradients are computed via backpropagation, and weights are adjusted based on the learning rate.  \n",
        "\n",
        "Learning Rate's Role: Determines the magnitude of weight updates. If it's too high, the model might not converge properly."
      ],
      "metadata": {
        "id": "AndIL-c8KIZl"
      }
    },
    {
      "cell_type": "markdown",
      "source": [
        "# **6. Model Evaluation**"
      ],
      "metadata": {
        "id": "XJC4a3s_KQSR"
      }
    },
    {
      "cell_type": "code",
      "source": [
        "import numpy as np\n",
        "import seaborn as sns\n",
        "import matplotlib.pyplot as plt\n",
        "import pandas as pd\n",
        "from sklearn.metrics import classification_report, confusion_matrix\n",
        "\n",
        "# Predictions\n",
        "y_pred = model.predict(X_test)\n",
        "y_pred_classes = np.argmax(y_pred, axis=1)\n",
        "y_true = np.argmax(y_test, axis=1)\n",
        "\n",
        "# Classification Report\n",
        "report = classification_report(y_true, y_pred_classes, output_dict=True)\n",
        "df_classification_report = pd.DataFrame(report).transpose()\n",
        "\n",
        "# Confusion Matrix\n",
        "conf_matrix = confusion_matrix(y_true, y_pred_classes)\n",
        "\n",
        "# Plot Confusion Matrix as Heatmap\n",
        "plt.figure(figsize=(10, 8))\n",
        "sns.heatmap(conf_matrix, annot=True, fmt='d', cmap='Blues', cbar=False,\n",
        "            xticklabels=['Airplane', 'Car', 'Bird', 'Cat', 'Deer', 'Dog', 'Frog', 'Horse', 'Ship', 'Truck'],\n",
        "            yticklabels=['Airplane', 'Car', 'Bird', 'Cat', 'Deer', 'Dog', 'Frog', 'Horse', 'Ship', 'Truck'])\n",
        "plt.xlabel('Predicted')\n",
        "plt.ylabel('True')\n",
        "plt.title('Confusion Matrix')\n",
        "plt.show()\n",
        "\n",
        "# Display Classification Report as Table\n",
        "print(\"\\nClassification Report:\\n\")\n",
        "df_classification_report.style.format(\"{:.2f}\").set_caption(\"Classification Report\").background_gradient(cmap='Blues')\n"
      ],
      "metadata": {
        "colab": {
          "base_uri": "https://localhost:8080/",
          "height": 1000
        },
        "id": "rdF-jV3wMSkU",
        "outputId": "3b8619f7-d3bc-4969-a948-0e860dd11686"
      },
      "execution_count": 13,
      "outputs": [
        {
          "output_type": "stream",
          "name": "stdout",
          "text": [
            "\u001b[1m313/313\u001b[0m \u001b[32m━━━━━━━━━━━━━━━━━━━━\u001b[0m\u001b[37m\u001b[0m \u001b[1m4s\u001b[0m 14ms/step\n"
          ]
        },
        {
          "output_type": "display_data",
          "data": {
            "text/plain": [
              "<Figure size 1000x800 with 1 Axes>"
            ],
            "image/png": "[encoded data removed]"
          },
          "metadata": {}
        },
        {
          "output_type": "stream",
          "name": "stdout",
          "text": [
            "\n",
            "Classification Report:\n",
            "\n"
          ]
        },
        {
          "output_type": "execute_result",
          "data": {
            "text/plain": [
              "<pandas.io.formats.style.Styler at 0x79ce80a571c0>"
            ],
            "text/html": [
              "<style type=\"text/css\">\n",
              "#T_2be99_row0_col0 {\n",
              "  background-color: #3181bd;\n",
              "  color: #f1f1f1;\n",
              "}\n",
              "#T_2be99_row0_col1 {\n",
              "  background-color: #2373b6;\n",
              "  color: #f1f1f1;\n",
              "}\n",
              "#T_2be99_row0_col2 {\n",
              "  background-color: #2474b7;\n",
              "  color: #f1f1f1;\n",
              "}\n",
              "#T_2be99_row0_col3, #T_2be99_row1_col3, #T_2be99_row2_col3, #T_2be99_row3_col3, #T_2be99_row4_col3, #T_2be99_row5_col3, #T_2be99_row6_col3, #T_2be99_row7_col3, #T_2be99_row8_col3, #T_2be99_row9_col3 {\n",
              "  background-color: #e3eef9;\n",
              "  color: #000000;\n",
              "}\n",
              "#T_2be99_row1_col0 {\n",
              "  background-color: #084285;\n",
              "  color: #f1f1f1;\n",
              "}\n",
              "#T_2be99_row1_col1 {\n",
              "  background-color: #083a7a;\n",
              "  color: #f1f1f1;\n",
              "}\n",
              "#T_2be99_row1_col2, #T_2be99_row6_col1, #T_2be99_row8_col0, #T_2be99_row11_col3, #T_2be99_row12_col3 {\n",
              "  background-color: #08306b;\n",
              "  color: #f1f1f1;\n",
              "}\n",
              "#T_2be99_row2_col0 {\n",
              "  background-color: #3c8cc3;\n",
              "  color: #f1f1f1;\n",
              "}\n",
              "#T_2be99_row2_col1 {\n",
              "  background-color: #d2e3f3;\n",
              "  color: #000000;\n",
              "}\n",
              "#T_2be99_row2_col2 {\n",
              "  background-color: #bfd8ed;\n",
              "  color: #000000;\n",
              "}\n",
              "#T_2be99_row3_col0 {\n",
              "  background-color: #a3cce3;\n",
              "  color: #000000;\n",
              "}\n",
              "#T_2be99_row3_col1, #T_2be99_row3_col2, #T_2be99_row6_col0, #T_2be99_row10_col3 {\n",
              "  background-color: #f7fbff;\n",
              "  color: #000000;\n",
              "}\n",
              "#T_2be99_row4_col0 {\n",
              "  background-color: #9cc9e1;\n",
              "  color: #000000;\n",
              "}\n",
              "#T_2be99_row4_col1 {\n",
              "  background-color: #4e9acb;\n",
              "  color: #f1f1f1;\n",
              "}\n",
              "#T_2be99_row4_col2 {\n",
              "  background-color: #6fb0d7;\n",
              "  color: #f1f1f1;\n",
              "}\n",
              "#T_2be99_row5_col0 {\n",
              "  background-color: #82bbdb;\n",
              "  color: #000000;\n",
              "}\n",
              "#T_2be99_row5_col1 {\n",
              "  background-color: #91c3de;\n",
              "  color: #000000;\n",
              "}\n",
              "#T_2be99_row5_col2 {\n",
              "  background-color: #9ac8e0;\n",
              "  color: #000000;\n",
              "}\n",
              "#T_2be99_row6_col2 {\n",
              "  background-color: #6caed6;\n",
              "  color: #f1f1f1;\n",
              "}\n",
              "#T_2be99_row7_col0 {\n",
              "  background-color: #1663aa;\n",
              "  color: #f1f1f1;\n",
              "}\n",
              "#T_2be99_row7_col1 {\n",
              "  background-color: #2f7fbc;\n",
              "  color: #f1f1f1;\n",
              "}\n",
              "#T_2be99_row7_col2 {\n",
              "  background-color: #206fb4;\n",
              "  color: #f1f1f1;\n",
              "}\n",
              "#T_2be99_row8_col1 {\n",
              "  background-color: #105ba4;\n",
              "  color: #f1f1f1;\n",
              "}\n",
              "#T_2be99_row8_col2 {\n",
              "  background-color: #083e81;\n",
              "  color: #f1f1f1;\n",
              "}\n",
              "#T_2be99_row9_col0 {\n",
              "  background-color: #3787c0;\n",
              "  color: #f1f1f1;\n",
              "}\n",
              "#T_2be99_row9_col1 {\n",
              "  background-color: #08488e;\n",
              "  color: #f1f1f1;\n",
              "}\n",
              "#T_2be99_row9_col2 {\n",
              "  background-color: #0f5aa3;\n",
              "  color: #f1f1f1;\n",
              "}\n",
              "#T_2be99_row10_col0 {\n",
              "  background-color: #549fcd;\n",
              "  color: #f1f1f1;\n",
              "}\n",
              "#T_2be99_row10_col1, #T_2be99_row11_col1, #T_2be99_row12_col1 {\n",
              "  background-color: #4090c5;\n",
              "  color: #f1f1f1;\n",
              "}\n",
              "#T_2be99_row10_col2 {\n",
              "  background-color: #4997c9;\n",
              "  color: #f1f1f1;\n",
              "}\n",
              "#T_2be99_row11_col0, #T_2be99_row11_col2, #T_2be99_row12_col0, #T_2be99_row12_col2 {\n",
              "  background-color: #4d99ca;\n",
              "  color: #f1f1f1;\n",
              "}\n",
              "</style>\n",
              "<table id=\"T_2be99\" class=\"dataframe\">\n",
              "  <caption>Classification Report</caption>\n",
              "  <thead>\n",
              "    <tr>\n",
              "      <th class=\"blank level0\" >&nbsp;</th>\n",
              "      <th id=\"T_2be99_level0_col0\" class=\"col_heading level0 col0\" >precision</th>\n",
              "      <th id=\"T_2be99_level0_col1\" class=\"col_heading level0 col1\" >recall</th>\n",
              "      <th id=\"T_2be99_level0_col2\" class=\"col_heading level0 col2\" >f1-score</th>\n",
              "      <th id=\"T_2be99_level0_col3\" class=\"col_heading level0 col3\" >support</th>\n",
              "    </tr>\n",
              "  </thead>\n",
              "  <tbody>\n",
              "    <tr>\n",
              "      <th id=\"T_2be99_level0_row0\" class=\"row_heading level0 row0\" >0</th>\n",
              "      <td id=\"T_2be99_row0_col0\" class=\"data row0 col0\" >0.81</td>\n",
              "      <td id=\"T_2be99_row0_col1\" class=\"data row0 col1\" >0.82</td>\n",
              "      <td id=\"T_2be99_row0_col2\" class=\"data row0 col2\" >0.81</td>\n",
              "      <td id=\"T_2be99_row0_col3\" class=\"data row0 col3\" >1000.00</td>\n",
              "    </tr>\n",
              "    <tr>\n",
              "      <th id=\"T_2be99_level0_row1\" class=\"row_heading level0 row1\" >1</th>\n",
              "      <td id=\"T_2be99_row1_col0\" class=\"data row1 col0\" >0.87</td>\n",
              "      <td id=\"T_2be99_row1_col1\" class=\"data row1 col1\" >0.92</td>\n",
              "      <td id=\"T_2be99_row1_col2\" class=\"data row1 col2\" >0.89</td>\n",
              "      <td id=\"T_2be99_row1_col3\" class=\"data row1 col3\" >1000.00</td>\n",
              "    </tr>\n",
              "    <tr>\n",
              "      <th id=\"T_2be99_level0_row2\" class=\"row_heading level0 row2\" >2</th>\n",
              "      <td id=\"T_2be99_row2_col0\" class=\"data row2 col0\" >0.79</td>\n",
              "      <td id=\"T_2be99_row2_col1\" class=\"data row2 col1\" >0.57</td>\n",
              "      <td id=\"T_2be99_row2_col2\" class=\"data row2 col2\" >0.66</td>\n",
              "      <td id=\"T_2be99_row2_col3\" class=\"data row2 col3\" >1000.00</td>\n",
              "    </tr>\n",
              "    <tr>\n",
              "      <th id=\"T_2be99_level0_row3\" class=\"row_heading level0 row3\" >3</th>\n",
              "      <td id=\"T_2be99_row3_col0\" class=\"data row3 col0\" >0.71</td>\n",
              "      <td id=\"T_2be99_row3_col1\" class=\"data row3 col1\" >0.49</td>\n",
              "      <td id=\"T_2be99_row3_col2\" class=\"data row3 col2\" >0.58</td>\n",
              "      <td id=\"T_2be99_row3_col3\" class=\"data row3 col3\" >1000.00</td>\n",
              "    </tr>\n",
              "    <tr>\n",
              "      <th id=\"T_2be99_level0_row4\" class=\"row_heading level0 row4\" >4</th>\n",
              "      <td id=\"T_2be99_row4_col0\" class=\"data row4 col0\" >0.72</td>\n",
              "      <td id=\"T_2be99_row4_col1\" class=\"data row4 col1\" >0.75</td>\n",
              "      <td id=\"T_2be99_row4_col2\" class=\"data row4 col2\" >0.73</td>\n",
              "      <td id=\"T_2be99_row4_col3\" class=\"data row4 col3\" >1000.00</td>\n",
              "    </tr>\n",
              "    <tr>\n",
              "      <th id=\"T_2be99_level0_row5\" class=\"row_heading level0 row5\" >5</th>\n",
              "      <td id=\"T_2be99_row5_col0\" class=\"data row5 col0\" >0.73</td>\n",
              "      <td id=\"T_2be99_row5_col1\" class=\"data row5 col1\" >0.67</td>\n",
              "      <td id=\"T_2be99_row5_col2\" class=\"data row5 col2\" >0.70</td>\n",
              "      <td id=\"T_2be99_row5_col3\" class=\"data row5 col3\" >1000.00</td>\n",
              "    </tr>\n",
              "    <tr>\n",
              "      <th id=\"T_2be99_level0_row6\" class=\"row_heading level0 row6\" >6</th>\n",
              "      <td id=\"T_2be99_row6_col0\" class=\"data row6 col0\" >0.61</td>\n",
              "      <td id=\"T_2be99_row6_col1\" class=\"data row6 col1\" >0.93</td>\n",
              "      <td id=\"T_2be99_row6_col2\" class=\"data row6 col2\" >0.74</td>\n",
              "      <td id=\"T_2be99_row6_col3\" class=\"data row6 col3\" >1000.00</td>\n",
              "    </tr>\n",
              "    <tr>\n",
              "      <th id=\"T_2be99_level0_row7\" class=\"row_heading level0 row7\" >7</th>\n",
              "      <td id=\"T_2be99_row7_col0\" class=\"data row7 col0\" >0.84</td>\n",
              "      <td id=\"T_2be99_row7_col1\" class=\"data row7 col1\" >0.80</td>\n",
              "      <td id=\"T_2be99_row7_col2\" class=\"data row7 col2\" >0.82</td>\n",
              "      <td id=\"T_2be99_row7_col3\" class=\"data row7 col3\" >1000.00</td>\n",
              "    </tr>\n",
              "    <tr>\n",
              "      <th id=\"T_2be99_level0_row8\" class=\"row_heading level0 row8\" >8</th>\n",
              "      <td id=\"T_2be99_row8_col0\" class=\"data row8 col0\" >0.89</td>\n",
              "      <td id=\"T_2be99_row8_col1\" class=\"data row8 col1\" >0.86</td>\n",
              "      <td id=\"T_2be99_row8_col2\" class=\"data row8 col2\" >0.88</td>\n",
              "      <td id=\"T_2be99_row8_col3\" class=\"data row8 col3\" >1000.00</td>\n",
              "    </tr>\n",
              "    <tr>\n",
              "      <th id=\"T_2be99_level0_row9\" class=\"row_heading level0 row9\" >9</th>\n",
              "      <td id=\"T_2be99_row9_col0\" class=\"data row9 col0\" >0.80</td>\n",
              "      <td id=\"T_2be99_row9_col1\" class=\"data row9 col1\" >0.89</td>\n",
              "      <td id=\"T_2be99_row9_col2\" class=\"data row9 col2\" >0.84</td>\n",
              "      <td id=\"T_2be99_row9_col3\" class=\"data row9 col3\" >1000.00</td>\n",
              "    </tr>\n",
              "    <tr>\n",
              "      <th id=\"T_2be99_level0_row10\" class=\"row_heading level0 row10\" >accuracy</th>\n",
              "      <td id=\"T_2be99_row10_col0\" class=\"data row10 col0\" >0.77</td>\n",
              "      <td id=\"T_2be99_row10_col1\" class=\"data row10 col1\" >0.77</td>\n",
              "      <td id=\"T_2be99_row10_col2\" class=\"data row10 col2\" >0.77</td>\n",
              "      <td id=\"T_2be99_row10_col3\" class=\"data row10 col3\" >0.77</td>\n",
              "    </tr>\n",
              "    <tr>\n",
              "      <th id=\"T_2be99_level0_row11\" class=\"row_heading level0 row11\" >macro avg</th>\n",
              "      <td id=\"T_2be99_row11_col0\" class=\"data row11 col0\" >0.78</td>\n",
              "      <td id=\"T_2be99_row11_col1\" class=\"data row11 col1\" >0.77</td>\n",
              "      <td id=\"T_2be99_row11_col2\" class=\"data row11 col2\" >0.77</td>\n",
              "      <td id=\"T_2be99_row11_col3\" class=\"data row11 col3\" >10000.00</td>\n",
              "    </tr>\n",
              "    <tr>\n",
              "      <th id=\"T_2be99_level0_row12\" class=\"row_heading level0 row12\" >weighted avg</th>\n",
              "      <td id=\"T_2be99_row12_col0\" class=\"data row12 col0\" >0.78</td>\n",
              "      <td id=\"T_2be99_row12_col1\" class=\"data row12 col1\" >0.77</td>\n",
              "      <td id=\"T_2be99_row12_col2\" class=\"data row12 col2\" >0.77</td>\n",
              "      <td id=\"T_2be99_row12_col3\" class=\"data row12 col3\" >10000.00</td>\n",
              "    </tr>\n",
              "  </tbody>\n",
              "</table>\n"
            ]
          },
          "metadata": {},
          "execution_count": 13
        }
      ]
    },
    {
      "cell_type": "markdown",
      "source": [
        "**Question:**    \n",
        "How can you further improve model performance if the accuracy is low?  \n",
        "**Answer**    \n",
        "To improve model performance with low accuracy, techniques like data augmentation can enhance training data diversity, while hyperparameter tuning can optimize learning rates and batch sizes. Additionally, employing regularization methods and adjusting the model architecture can help reduce overfitting and improve overall accuracy."
      ],
      "metadata": {
        "id": "5FR76bnAsA4Y"
      }
    },
    {
      "cell_type": "markdown",
      "source": [
        "# **7. Optimization Strategies**"
      ],
      "metadata": {
        "id": "h5fUsXF0KXrA"
      }
    },
    {
      "cell_type": "markdown",
      "source": [
        "a. Early Stopping"
      ],
      "metadata": {
        "id": "Sz8KsKejKdLp"
      }
    },
    {
      "cell_type": "code",
      "source": [
        "from tensorflow.keras.callbacks import EarlyStopping\n",
        "\n",
        "early_stopping = EarlyStopping(monitor='val_loss', patience=5, restore_best_weights=True)\n"
      ],
      "metadata": {
        "id": "jEsy6pqSKZUJ"
      },
      "execution_count": 14,
      "outputs": []
    },
    {
      "cell_type": "markdown",
      "source": [
        "b. Learning Rate Scheduling"
      ],
      "metadata": {
        "id": "7habZSzkKfeG"
      }
    },
    {
      "cell_type": "code",
      "source": [
        "from tensorflow.keras.callbacks import ReduceLROnPlateau\n",
        "\n",
        "lr_scheduler = ReduceLROnPlateau(monitor='val_loss', factor=0.1, patience=3)\n"
      ],
      "metadata": {
        "id": "yBiZJwyyKgdu"
      },
      "execution_count": 15,
      "outputs": []
    },
    {
      "cell_type": "markdown",
      "source": [
        "c. Weight Initialization"
      ],
      "metadata": {
        "id": "umHVgBbGKh30"
      }
    },
    {
      "cell_type": "code",
      "source": [
        "from tensorflow.keras.models import Sequential\n",
        "from tensorflow.keras.layers import Conv2D, Input\n",
        "from tensorflow.keras.initializers import HeNormal\n",
        "\n",
        "# Define model\n",
        "model = Sequential()\n",
        "\n",
        "# Add Input Layer (adjust input shape as per your data, e.g., 32x32 images with 3 channels for RGB)\n",
        "model.add(Input(shape=(32, 32, 3)))\n",
        "\n",
        "# Modify Conv2D layers\n",
        "model.add(Conv2D(32, (3, 3), activation='relu', kernel_initializer=HeNormal()))"
      ],
      "metadata": {
        "id": "J_0azy5wKiVd"
      },
      "execution_count": 17,
      "outputs": []
    },
    {
      "cell_type": "markdown",
      "source": [
        "**Question:**   \n",
        "Why is weight initialization important, and how does it impact the\n",
        "convergence of your network?  \n",
        "\n",
        "**Answer**  \n",
        "Weight initialization is important because it influences the convergence speed and stability of neural networks. Proper initialization helps prevent issues like vanishing or exploding gradients, allowing the network to learn effectively and reach optimal performance more quickly.  "
      ],
      "metadata": {
        "id": "rGdTR1sLqiyO"
      }
    },
    {
      "cell_type": "markdown",
      "source": [
        "# **8. Report**"
      ],
      "metadata": {
        "id": "jf2SoG2HKknw"
      }
    },
    {
      "cell_type": "code",
      "source": [
        "import matplotlib.pyplot as plt\n",
        "\n",
        "# Plot training & validation accuracy\n",
        "plt.plot(history.history['accuracy'])\n",
        "plt.plot(history.history['val_accuracy'])\n",
        "plt.title('Model accuracy')\n",
        "plt.ylabel('Accuracy')\n",
        "plt.xlabel('Epoch')\n",
        "plt.legend(['Train', 'Test'], loc='upper left')\n",
        "plt.show()\n",
        "\n",
        "# Plot training & validation loss\n",
        "plt.plot(history.history['loss'])\n",
        "plt.plot(history.history['val_loss'])\n",
        "plt.title('Model loss')\n",
        "plt.ylabel('Loss')\n",
        "plt.xlabel('Epoch')\n",
        "plt.legend(['Train', 'Test'], loc='upper left')\n",
        "plt.show()\n"
      ],
      "metadata": {
        "colab": {
          "base_uri": "https://localhost:8080/",
          "height": 927
        },
        "id": "vNtQUUVeKl8C",
        "outputId": "67273fa7-ef3c-4b2c-a237-02a6cc668da7"
      },
      "execution_count": 18,
      "outputs": [
        {
          "output_type": "display_data",
          "data": {
            "text/plain": [
              "<Figure size 640x480 with 1 Axes>"
            ],
            "image/png": "[encoded data removed]"
          },
          "metadata": {}
        },
        {
          "output_type": "display_data",
          "data": {
            "text/plain": [
              "<Figure size 640x480 with 1 Axes>"
            ],
            "image/png": "[encoded data removed]"
          },
          "metadata": {}
        }
      ]
    },
    {
      "cell_type": "markdown",
      "source": [
        "Accuracy Plot: The training and validation accuracy should increase over time, although validation accuracy might plateau.   \n",
        "\n",
        "Loss Plot: The training and validation loss should decrease, although validation loss might flatten or slightly increase if overfitting occurs."
      ],
      "metadata": {
        "id": "0ogIHZvCK8Ad"
      }
    }
  ]
}