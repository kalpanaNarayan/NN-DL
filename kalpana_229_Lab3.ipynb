{
  "nbformat": 4,
  "nbformat_minor": 0,
  "metadata": {
    "colab": {
      "provenance": []
    },
    "kernelspec": {
      "name": "python3",
      "display_name": "Python 3"
    },
    "language_info": {
      "name": "python"
    }
  },
  "cells": [
    {
      "cell_type": "markdown",
      "source": [
        "# **MCA572– Neural Networks and Deep Learning**"
      ],
      "metadata": {
        "id": "iJ_AK69pCty1"
      }
    },
    {
      "cell_type": "markdown",
      "source": [
        "**Kalpana N**  \n",
        "**2347229**"
      ],
      "metadata": {
        "id": "0sHggT6EC0vh"
      }
    },
    {
      "cell_type": "markdown",
      "source": [
        "# **1. Data Preprocessing**"
      ],
      "metadata": {
        "id": "5Cai8x1mDSVw"
      }
    },
    {
      "cell_type": "markdown",
      "source": [
        "a. Load the CIFAR-10 Dataset"
      ],
      "metadata": {
        "id": "NcokdGgNDUg2"
      }
    },
    {
      "cell_type": "code",
      "execution_count": 17,
      "metadata": {
        "id": "XetKl5WsCof-"
      },
      "outputs": [],
      "source": [
        "import tensorflow as tf\n",
        "from tensorflow.keras.datasets import cifar10\n",
        "from tensorflow.keras.utils import to_categorical\n",
        "\n",
        "# Load CIFAR-10 data\n",
        "(X_train, y_train), (X_test, y_test) = cifar10.load_data()\n"
      ]
    },
    {
      "cell_type": "markdown",
      "source": [
        "b. Normalize Pixel Values"
      ],
      "metadata": {
        "id": "b2noHQnbDwXT"
      }
    },
    {
      "cell_type": "code",
      "source": [
        "X_train = X_train.astype('float32') / 255.0\n",
        "X_test = X_test.astype('float32') / 255.0\n"
      ],
      "metadata": {
        "id": "oJBm9b1SDwxF"
      },
      "execution_count": 18,
      "outputs": []
    },
    {
      "cell_type": "markdown",
      "source": [
        "c. One-Hot Encoding for Labels\n"
      ],
      "metadata": {
        "id": "pbuSUoKVDzav"
      }
    },
    {
      "cell_type": "code",
      "source": [
        "y_train = to_categorical(y_train, 10)\n",
        "y_test = to_categorical(y_test, 10)\n"
      ],
      "metadata": {
        "id": "puvhwDsYD0kg"
      },
      "execution_count": 19,
      "outputs": []
    },
    {
      "cell_type": "code",
      "source": [
        "print(X_train.shape, y_train.shape)\n",
        "print(X_test.shape, y_test.shape)\n"
      ],
      "metadata": {
        "colab": {
          "base_uri": "https://localhost:8080/"
        },
        "id": "bnnGAe4kELsX",
        "outputId": "534c00fa-3018-445d-e554-07aa22ac58c6"
      },
      "execution_count": 20,
      "outputs": [
        {
          "output_type": "stream",
          "name": "stdout",
          "text": [
            "(50000, 32, 32, 3) (50000, 10)\n",
            "(10000, 32, 32, 3) (10000, 10)\n"
          ]
        }
      ]
    },
    {
      "cell_type": "markdown",
      "source": [
        "d. Data Augmentation (Optional)\n"
      ],
      "metadata": {
        "id": "IW18uBQ_D5j-"
      }
    },
    {
      "cell_type": "code",
      "source": [
        "from tensorflow.keras.preprocessing.image import ImageDataGenerator\n",
        "\n",
        "datagen = ImageDataGenerator(\n",
        "    rotation_range=15,\n",
        "    width_shift_range=0.1,\n",
        "    height_shift_range=0.1,\n",
        "    horizontal_flip=True\n",
        ")\n",
        "datagen.fit(X_train)\n"
      ],
      "metadata": {
        "id": "tw0gmniMD7SK"
      },
      "execution_count": 21,
      "outputs": []
    },
    {
      "cell_type": "markdown",
      "source": [
        "#  **2. Network Architecture Design**\n"
      ],
      "metadata": {
        "id": "Oup-5egIFA7X"
      }
    },
    {
      "cell_type": "code",
      "source": [
        "from tensorflow.keras.models import Sequential\n",
        "from tensorflow.keras.layers import Conv2D, MaxPooling2D, Flatten, Dense, Dropout\n",
        "\n",
        "model = Sequential()\n",
        "\n",
        "# Input layer (32x32x3 image)\n",
        "model.add(Conv2D(32, (3, 3), activation='relu', input_shape=(32, 32, 3)))\n",
        "model.add(MaxPooling2D(pool_size=(2, 2)))\n",
        "model.add(Dropout(0.25))\n",
        "\n",
        "# Hidden layer 1\n",
        "model.add(Conv2D(64, (3, 3), activation='relu'))\n",
        "model.add(MaxPooling2D(pool_size=(2, 2)))\n",
        "model.add(Dropout(0.25))\n",
        "\n",
        "# Hidden layer 2\n",
        "model.add(Conv2D(128, (3, 3), activation='relu'))\n",
        "model.add(MaxPooling2D(pool_size=(2, 2)))\n",
        "\n",
        "# Flatten layer\n",
        "model.add(Flatten())\n",
        "\n",
        "# Fully connected layer\n",
        "model.add(Dense(256, activation='relu'))\n",
        "model.add(Dropout(0.5))\n",
        "\n",
        "# Output layer (10 classes)\n",
        "model.add(Dense(10, activation='softmax'))\n"
      ],
      "metadata": {
        "colab": {
          "base_uri": "https://localhost:8080/"
        },
        "id": "Tn5mGl6tFBUH",
        "outputId": "36cc3fba-5ff1-4299-ce1f-33b894c1f8d9"
      },
      "execution_count": 22,
      "outputs": [
        {
          "output_type": "stream",
          "name": "stderr",
          "text": [
            "/usr/local/lib/python3.10/dist-packages/keras/src/layers/convolutional/base_conv.py:107: UserWarning: Do not pass an `input_shape`/`input_dim` argument to a layer. When using Sequential models, prefer using an `Input(shape)` object as the first layer in the model instead.\n",
            "  super().__init__(activity_regularizer=activity_regularizer, **kwargs)\n"
          ]
        }
      ]
    },
    {
      "cell_type": "code",
      "source": [
        "# Display the model summary\n",
        "model.summary()\n"
      ],
      "metadata": {
        "colab": {
          "base_uri": "https://localhost:8080/",
          "height": 536
        },
        "id": "2bEKGK-SFy_x",
        "outputId": "cff736d6-84f2-4112-8c81-ddf88c50b80b"
      },
      "execution_count": 23,
      "outputs": [
        {
          "output_type": "display_data",
          "data": {
            "text/plain": [
              "\u001b[1mModel: \"sequential_2\"\u001b[0m\n"
            ],
            "text/html": [
              "<pre style=\"white-space:pre;overflow-x:auto;line-height:normal;font-family:Menlo,'DejaVu Sans Mono',consolas,'Courier New',monospace\"><span style=\"font-weight: bold\">Model: \"sequential_2\"</span>\n",
              "</pre>\n"
            ]
          },
          "metadata": {}
        },
        {
          "output_type": "display_data",
          "data": {
            "text/plain": [
              "┏━━━━━━━━━━━━━━━━━━━━━━━━━━━━━━━━━━━━━━┳━━━━━━━━━━━━━━━━━━━━━━━━━━━━━┳━━━━━━━━━━━━━━━━━┓\n",
              "┃\u001b[1m \u001b[0m\u001b[1mLayer (type)                        \u001b[0m\u001b[1m \u001b[0m┃\u001b[1m \u001b[0m\u001b[1mOutput Shape               \u001b[0m\u001b[1m \u001b[0m┃\u001b[1m \u001b[0m\u001b[1m        Param #\u001b[0m\u001b[1m \u001b[0m┃\n",
              "┡━━━━━━━━━━━━━━━━━━━━━━━━━━━━━━━━━━━━━━╇━━━━━━━━━━━━━━━━━━━━━━━━━━━━━╇━━━━━━━━━━━━━━━━━┩\n",
              "│ conv2d_6 (\u001b[38;5;33mConv2D\u001b[0m)                    │ (\u001b[38;5;45mNone\u001b[0m, \u001b[38;5;34m30\u001b[0m, \u001b[38;5;34m30\u001b[0m, \u001b[38;5;34m32\u001b[0m)          │             \u001b[38;5;34m896\u001b[0m │\n",
              "├──────────────────────────────────────┼─────────────────────────────┼─────────────────┤\n",
              "│ max_pooling2d_6 (\u001b[38;5;33mMaxPooling2D\u001b[0m)       │ (\u001b[38;5;45mNone\u001b[0m, \u001b[38;5;34m15\u001b[0m, \u001b[38;5;34m15\u001b[0m, \u001b[38;5;34m32\u001b[0m)          │               \u001b[38;5;34m0\u001b[0m │\n",
              "├──────────────────────────────────────┼─────────────────────────────┼─────────────────┤\n",
              "│ dropout_6 (\u001b[38;5;33mDropout\u001b[0m)                  │ (\u001b[38;5;45mNone\u001b[0m, \u001b[38;5;34m15\u001b[0m, \u001b[38;5;34m15\u001b[0m, \u001b[38;5;34m32\u001b[0m)          │               \u001b[38;5;34m0\u001b[0m │\n",
              "├──────────────────────────────────────┼─────────────────────────────┼─────────────────┤\n",
              "│ conv2d_7 (\u001b[38;5;33mConv2D\u001b[0m)                    │ (\u001b[38;5;45mNone\u001b[0m, \u001b[38;5;34m13\u001b[0m, \u001b[38;5;34m13\u001b[0m, \u001b[38;5;34m64\u001b[0m)          │          \u001b[38;5;34m18,496\u001b[0m │\n",
              "├──────────────────────────────────────┼─────────────────────────────┼─────────────────┤\n",
              "│ max_pooling2d_7 (\u001b[38;5;33mMaxPooling2D\u001b[0m)       │ (\u001b[38;5;45mNone\u001b[0m, \u001b[38;5;34m6\u001b[0m, \u001b[38;5;34m6\u001b[0m, \u001b[38;5;34m64\u001b[0m)            │               \u001b[38;5;34m0\u001b[0m │\n",
              "├──────────────────────────────────────┼─────────────────────────────┼─────────────────┤\n",
              "│ dropout_7 (\u001b[38;5;33mDropout\u001b[0m)                  │ (\u001b[38;5;45mNone\u001b[0m, \u001b[38;5;34m6\u001b[0m, \u001b[38;5;34m6\u001b[0m, \u001b[38;5;34m64\u001b[0m)            │               \u001b[38;5;34m0\u001b[0m │\n",
              "├──────────────────────────────────────┼─────────────────────────────┼─────────────────┤\n",
              "│ conv2d_8 (\u001b[38;5;33mConv2D\u001b[0m)                    │ (\u001b[38;5;45mNone\u001b[0m, \u001b[38;5;34m4\u001b[0m, \u001b[38;5;34m4\u001b[0m, \u001b[38;5;34m128\u001b[0m)           │          \u001b[38;5;34m73,856\u001b[0m │\n",
              "├──────────────────────────────────────┼─────────────────────────────┼─────────────────┤\n",
              "│ max_pooling2d_8 (\u001b[38;5;33mMaxPooling2D\u001b[0m)       │ (\u001b[38;5;45mNone\u001b[0m, \u001b[38;5;34m2\u001b[0m, \u001b[38;5;34m2\u001b[0m, \u001b[38;5;34m128\u001b[0m)           │               \u001b[38;5;34m0\u001b[0m │\n",
              "├──────────────────────────────────────┼─────────────────────────────┼─────────────────┤\n",
              "│ flatten_2 (\u001b[38;5;33mFlatten\u001b[0m)                  │ (\u001b[38;5;45mNone\u001b[0m, \u001b[38;5;34m512\u001b[0m)                 │               \u001b[38;5;34m0\u001b[0m │\n",
              "├──────────────────────────────────────┼─────────────────────────────┼─────────────────┤\n",
              "│ dense_4 (\u001b[38;5;33mDense\u001b[0m)                      │ (\u001b[38;5;45mNone\u001b[0m, \u001b[38;5;34m256\u001b[0m)                 │         \u001b[38;5;34m131,328\u001b[0m │\n",
              "├──────────────────────────────────────┼─────────────────────────────┼─────────────────┤\n",
              "│ dropout_8 (\u001b[38;5;33mDropout\u001b[0m)                  │ (\u001b[38;5;45mNone\u001b[0m, \u001b[38;5;34m256\u001b[0m)                 │               \u001b[38;5;34m0\u001b[0m │\n",
              "├──────────────────────────────────────┼─────────────────────────────┼─────────────────┤\n",
              "│ dense_5 (\u001b[38;5;33mDense\u001b[0m)                      │ (\u001b[38;5;45mNone\u001b[0m, \u001b[38;5;34m10\u001b[0m)                  │           \u001b[38;5;34m2,570\u001b[0m │\n",
              "└──────────────────────────────────────┴─────────────────────────────┴─────────────────┘\n"
            ],
            "text/html": [
              "<pre style=\"white-space:pre;overflow-x:auto;line-height:normal;font-family:Menlo,'DejaVu Sans Mono',consolas,'Courier New',monospace\">┏━━━━━━━━━━━━━━━━━━━━━━━━━━━━━━━━━━━━━━┳━━━━━━━━━━━━━━━━━━━━━━━━━━━━━┳━━━━━━━━━━━━━━━━━┓\n",
              "┃<span style=\"font-weight: bold\"> Layer (type)                         </span>┃<span style=\"font-weight: bold\"> Output Shape                </span>┃<span style=\"font-weight: bold\">         Param # </span>┃\n",
              "┡━━━━━━━━━━━━━━━━━━━━━━━━━━━━━━━━━━━━━━╇━━━━━━━━━━━━━━━━━━━━━━━━━━━━━╇━━━━━━━━━━━━━━━━━┩\n",
              "│ conv2d_6 (<span style=\"color: #0087ff; text-decoration-color: #0087ff\">Conv2D</span>)                    │ (<span style=\"color: #00d7ff; text-decoration-color: #00d7ff\">None</span>, <span style=\"color: #00af00; text-decoration-color: #00af00\">30</span>, <span style=\"color: #00af00; text-decoration-color: #00af00\">30</span>, <span style=\"color: #00af00; text-decoration-color: #00af00\">32</span>)          │             <span style=\"color: #00af00; text-decoration-color: #00af00\">896</span> │\n",
              "├──────────────────────────────────────┼─────────────────────────────┼─────────────────┤\n",
              "│ max_pooling2d_6 (<span style=\"color: #0087ff; text-decoration-color: #0087ff\">MaxPooling2D</span>)       │ (<span style=\"color: #00d7ff; text-decoration-color: #00d7ff\">None</span>, <span style=\"color: #00af00; text-decoration-color: #00af00\">15</span>, <span style=\"color: #00af00; text-decoration-color: #00af00\">15</span>, <span style=\"color: #00af00; text-decoration-color: #00af00\">32</span>)          │               <span style=\"color: #00af00; text-decoration-color: #00af00\">0</span> │\n",
              "├──────────────────────────────────────┼─────────────────────────────┼─────────────────┤\n",
              "│ dropout_6 (<span style=\"color: #0087ff; text-decoration-color: #0087ff\">Dropout</span>)                  │ (<span style=\"color: #00d7ff; text-decoration-color: #00d7ff\">None</span>, <span style=\"color: #00af00; text-decoration-color: #00af00\">15</span>, <span style=\"color: #00af00; text-decoration-color: #00af00\">15</span>, <span style=\"color: #00af00; text-decoration-color: #00af00\">32</span>)          │               <span style=\"color: #00af00; text-decoration-color: #00af00\">0</span> │\n",
              "├──────────────────────────────────────┼─────────────────────────────┼─────────────────┤\n",
              "│ conv2d_7 (<span style=\"color: #0087ff; text-decoration-color: #0087ff\">Conv2D</span>)                    │ (<span style=\"color: #00d7ff; text-decoration-color: #00d7ff\">None</span>, <span style=\"color: #00af00; text-decoration-color: #00af00\">13</span>, <span style=\"color: #00af00; text-decoration-color: #00af00\">13</span>, <span style=\"color: #00af00; text-decoration-color: #00af00\">64</span>)          │          <span style=\"color: #00af00; text-decoration-color: #00af00\">18,496</span> │\n",
              "├──────────────────────────────────────┼─────────────────────────────┼─────────────────┤\n",
              "│ max_pooling2d_7 (<span style=\"color: #0087ff; text-decoration-color: #0087ff\">MaxPooling2D</span>)       │ (<span style=\"color: #00d7ff; text-decoration-color: #00d7ff\">None</span>, <span style=\"color: #00af00; text-decoration-color: #00af00\">6</span>, <span style=\"color: #00af00; text-decoration-color: #00af00\">6</span>, <span style=\"color: #00af00; text-decoration-color: #00af00\">64</span>)            │               <span style=\"color: #00af00; text-decoration-color: #00af00\">0</span> │\n",
              "├──────────────────────────────────────┼─────────────────────────────┼─────────────────┤\n",
              "│ dropout_7 (<span style=\"color: #0087ff; text-decoration-color: #0087ff\">Dropout</span>)                  │ (<span style=\"color: #00d7ff; text-decoration-color: #00d7ff\">None</span>, <span style=\"color: #00af00; text-decoration-color: #00af00\">6</span>, <span style=\"color: #00af00; text-decoration-color: #00af00\">6</span>, <span style=\"color: #00af00; text-decoration-color: #00af00\">64</span>)            │               <span style=\"color: #00af00; text-decoration-color: #00af00\">0</span> │\n",
              "├──────────────────────────────────────┼─────────────────────────────┼─────────────────┤\n",
              "│ conv2d_8 (<span style=\"color: #0087ff; text-decoration-color: #0087ff\">Conv2D</span>)                    │ (<span style=\"color: #00d7ff; text-decoration-color: #00d7ff\">None</span>, <span style=\"color: #00af00; text-decoration-color: #00af00\">4</span>, <span style=\"color: #00af00; text-decoration-color: #00af00\">4</span>, <span style=\"color: #00af00; text-decoration-color: #00af00\">128</span>)           │          <span style=\"color: #00af00; text-decoration-color: #00af00\">73,856</span> │\n",
              "├──────────────────────────────────────┼─────────────────────────────┼─────────────────┤\n",
              "│ max_pooling2d_8 (<span style=\"color: #0087ff; text-decoration-color: #0087ff\">MaxPooling2D</span>)       │ (<span style=\"color: #00d7ff; text-decoration-color: #00d7ff\">None</span>, <span style=\"color: #00af00; text-decoration-color: #00af00\">2</span>, <span style=\"color: #00af00; text-decoration-color: #00af00\">2</span>, <span style=\"color: #00af00; text-decoration-color: #00af00\">128</span>)           │               <span style=\"color: #00af00; text-decoration-color: #00af00\">0</span> │\n",
              "├──────────────────────────────────────┼─────────────────────────────┼─────────────────┤\n",
              "│ flatten_2 (<span style=\"color: #0087ff; text-decoration-color: #0087ff\">Flatten</span>)                  │ (<span style=\"color: #00d7ff; text-decoration-color: #00d7ff\">None</span>, <span style=\"color: #00af00; text-decoration-color: #00af00\">512</span>)                 │               <span style=\"color: #00af00; text-decoration-color: #00af00\">0</span> │\n",
              "├──────────────────────────────────────┼─────────────────────────────┼─────────────────┤\n",
              "│ dense_4 (<span style=\"color: #0087ff; text-decoration-color: #0087ff\">Dense</span>)                      │ (<span style=\"color: #00d7ff; text-decoration-color: #00d7ff\">None</span>, <span style=\"color: #00af00; text-decoration-color: #00af00\">256</span>)                 │         <span style=\"color: #00af00; text-decoration-color: #00af00\">131,328</span> │\n",
              "├──────────────────────────────────────┼─────────────────────────────┼─────────────────┤\n",
              "│ dropout_8 (<span style=\"color: #0087ff; text-decoration-color: #0087ff\">Dropout</span>)                  │ (<span style=\"color: #00d7ff; text-decoration-color: #00d7ff\">None</span>, <span style=\"color: #00af00; text-decoration-color: #00af00\">256</span>)                 │               <span style=\"color: #00af00; text-decoration-color: #00af00\">0</span> │\n",
              "├──────────────────────────────────────┼─────────────────────────────┼─────────────────┤\n",
              "│ dense_5 (<span style=\"color: #0087ff; text-decoration-color: #0087ff\">Dense</span>)                      │ (<span style=\"color: #00d7ff; text-decoration-color: #00d7ff\">None</span>, <span style=\"color: #00af00; text-decoration-color: #00af00\">10</span>)                  │           <span style=\"color: #00af00; text-decoration-color: #00af00\">2,570</span> │\n",
              "└──────────────────────────────────────┴─────────────────────────────┴─────────────────┘\n",
              "</pre>\n"
            ]
          },
          "metadata": {}
        },
        {
          "output_type": "display_data",
          "data": {
            "text/plain": [
              "\u001b[1m Total params: \u001b[0m\u001b[38;5;34m227,146\u001b[0m (887.29 KB)\n"
            ],
            "text/html": [
              "<pre style=\"white-space:pre;overflow-x:auto;line-height:normal;font-family:Menlo,'DejaVu Sans Mono',consolas,'Courier New',monospace\"><span style=\"font-weight: bold\"> Total params: </span><span style=\"color: #00af00; text-decoration-color: #00af00\">227,146</span> (887.29 KB)\n",
              "</pre>\n"
            ]
          },
          "metadata": {}
        },
        {
          "output_type": "display_data",
          "data": {
            "text/plain": [
              "\u001b[1m Trainable params: \u001b[0m\u001b[38;5;34m227,146\u001b[0m (887.29 KB)\n"
            ],
            "text/html": [
              "<pre style=\"white-space:pre;overflow-x:auto;line-height:normal;font-family:Menlo,'DejaVu Sans Mono',consolas,'Courier New',monospace\"><span style=\"font-weight: bold\"> Trainable params: </span><span style=\"color: #00af00; text-decoration-color: #00af00\">227,146</span> (887.29 KB)\n",
              "</pre>\n"
            ]
          },
          "metadata": {}
        },
        {
          "output_type": "display_data",
          "data": {
            "text/plain": [
              "\u001b[1m Non-trainable params: \u001b[0m\u001b[38;5;34m0\u001b[0m (0.00 B)\n"
            ],
            "text/html": [
              "<pre style=\"white-space:pre;overflow-x:auto;line-height:normal;font-family:Menlo,'DejaVu Sans Mono',consolas,'Courier New',monospace\"><span style=\"font-weight: bold\"> Non-trainable params: </span><span style=\"color: #00af00; text-decoration-color: #00af00\">0</span> (0.00 B)\n",
              "</pre>\n"
            ]
          },
          "metadata": {}
        }
      ]
    },
    {
      "cell_type": "markdown",
      "source": [
        "**Question1:**\n",
        "**Justify your choice of network architecture, including the number of layers, types of layers, and the number of neurons/filters in each layer.**  \n",
        "\n",
        "**Justification**  \n",
        "1.Convolutional Layers:Used To capture spatial hierarchies in images.  \n",
        "2.MaxPooling: To reduce spatial dimensions and computational load.  \n",
        "3.Dropout: To prevent overfitting.  \n",
        "4.Fully Connected Layer: For classification.    \n",
        "5.Softmax Output Layer: Converts logits into probabilities for multi-class classification.  \n",
        "\n"
      ],
      "metadata": {
        "id": "ad0A3Oo-Fiam"
      }
    },
    {
      "cell_type": "markdown",
      "source": [
        "The network architecture starts with 32 filters to capture basic image features, gradually increasing to 64 and 128 filters for more complex patterns.Max pooling layers reduce the spatial dimensions, making computations efficient, while dropout layers (0.25 and 0.5) prevent overfitting. The fully connected layer with 256 neurons consolidates these features, and the softmax output layer classifies images into one of 10 classes. This design effectively balances feature extraction and generalization for CIFAR-10 classification."
      ],
      "metadata": {
        "id": "I9qYs9O8GemX"
      }
    },
    {
      "cell_type": "markdown",
      "source": [
        "# **3. Activation Functions**"
      ],
      "metadata": {
        "id": "L8jMDlXlHy7z"
      }
    },
    {
      "cell_type": "markdown",
      "source": [
        "**ReLU:**  \n",
        "ReLU is chosen for hidden layers as it helps avoid the vanishing gradient problem and speeds up training by passing gradients for positive inputs while ignoring negative ones, reducing unnecessary computations.\n",
        "\n",
        "**Softmax:**  \n",
        "Softmax is used in the output layer to generate probabilities for multi-class classification, ensuring the outputs sum to one and aiding in efficient weight updates during backpropagation."
      ],
      "metadata": {
        "id": "HyCj3ggII6h3"
      }
    },
    {
      "cell_type": "markdown",
      "source": [
        "# **4. Loss Function and Optimizer**"
      ],
      "metadata": {
        "id": "3aKry1pMJino"
      }
    },
    {
      "cell_type": "markdown",
      "source": [
        "a. Loss Functions"
      ],
      "metadata": {
        "id": "_2SnR9VRJnNW"
      }
    },
    {
      "cell_type": "code",
      "source": [
        "model.compile(loss='categorical_crossentropy', optimizer='adam', metrics=['accuracy'])\n"
      ],
      "metadata": {
        "id": "Q0YM-f8DJQZY"
      },
      "execution_count": 24,
      "outputs": []
    },
    {
      "cell_type": "markdown",
      "source": [
        "b. Optimizer"
      ],
      "metadata": {
        "id": "V0kfTjcpJu9d"
      }
    },
    {
      "cell_type": "markdown",
      "source": [
        "We use Adam as it adapts the learning rate and converges faster than traditional gradient descent.   \n",
        "\n",
        "Learning Rate: Affects how large the steps are in updating weights. A learning rate too high may cause the model to overshoot; too low, and it might take too long to converge."
      ],
      "metadata": {
        "id": "lWg6FXTnJxSQ"
      }
    },
    {
      "cell_type": "markdown",
      "source": [
        "**Question:**  \n",
        "How does the choice of optimizer and learning rate influence the\n",
        "convergence of the network? How would you adjust the learning rate if the\n",
        "model is not converging properly?   \n",
        "\n",
        "**Answer**  \n",
        "The optimizer and learning rate are crucial for network convergence, as they dictate weight updates during training. If the model fails to converge, I would reduce the learning rate or use adaptive methods to stabilize training."
      ],
      "metadata": {
        "id": "pUmEnu1jrbMn"
      }
    },
    {
      "cell_type": "markdown",
      "source": [
        "# **5. Training the Model**"
      ],
      "metadata": {
        "id": "I0LwqpryJ7lH"
      }
    },
    {
      "cell_type": "code",
      "source": [
        "history = model.fit(datagen.flow(X_train, y_train, batch_size=64),\n",
        "                    epochs=50,\n",
        "                    validation_data=(X_test, y_test),\n",
        "                    verbose=2)\n"
      ],
      "metadata": {
        "colab": {
          "base_uri": "https://localhost:8080/"
        },
        "id": "9_a6mrsiJ3GX",
        "outputId": "6cfd1aa1-6225-402f-bbfa-4041e3fd6d6d"
      },
      "execution_count": 25,
      "outputs": [
        {
          "output_type": "stream",
          "name": "stdout",
          "text": [
            "Epoch 1/50\n",
            "782/782 - 99s - 127ms/step - accuracy: 0.3358 - loss: 1.7857 - val_accuracy: 0.4819 - val_loss: 1.4342\n",
            "Epoch 2/50\n",
            "782/782 - 141s - 180ms/step - accuracy: 0.4642 - loss: 1.4815 - val_accuracy: 0.5585 - val_loss: 1.2313\n",
            "Epoch 3/50\n",
            "782/782 - 95s - 122ms/step - accuracy: 0.5165 - loss: 1.3495 - val_accuracy: 0.5901 - val_loss: 1.1577\n",
            "Epoch 4/50\n",
            "782/782 - 95s - 121ms/step - accuracy: 0.5470 - loss: 1.2690 - val_accuracy: 0.6230 - val_loss: 1.0660\n",
            "Epoch 5/50\n",
            "782/782 - 95s - 121ms/step - accuracy: 0.5737 - loss: 1.2064 - val_accuracy: 0.6281 - val_loss: 1.0548\n",
            "Epoch 6/50\n",
            "782/782 - 98s - 125ms/step - accuracy: 0.5846 - loss: 1.1722 - val_accuracy: 0.6607 - val_loss: 0.9648\n",
            "Epoch 7/50\n",
            "782/782 - 139s - 177ms/step - accuracy: 0.5980 - loss: 1.1322 - val_accuracy: 0.6774 - val_loss: 0.9137\n",
            "Epoch 8/50\n",
            "782/782 - 95s - 121ms/step - accuracy: 0.6115 - loss: 1.1072 - val_accuracy: 0.6840 - val_loss: 0.9103\n",
            "Epoch 9/50\n",
            "782/782 - 142s - 182ms/step - accuracy: 0.6173 - loss: 1.0899 - val_accuracy: 0.7023 - val_loss: 0.8617\n",
            "Epoch 10/50\n",
            "782/782 - 142s - 181ms/step - accuracy: 0.6285 - loss: 1.0629 - val_accuracy: 0.6968 - val_loss: 0.8656\n",
            "Epoch 11/50\n",
            "782/782 - 142s - 181ms/step - accuracy: 0.6349 - loss: 1.0446 - val_accuracy: 0.7067 - val_loss: 0.8495\n",
            "Epoch 12/50\n",
            "782/782 - 142s - 182ms/step - accuracy: 0.6408 - loss: 1.0278 - val_accuracy: 0.6966 - val_loss: 0.8679\n",
            "Epoch 13/50\n",
            "782/782 - 142s - 182ms/step - accuracy: 0.6451 - loss: 1.0166 - val_accuracy: 0.7079 - val_loss: 0.8415\n",
            "Epoch 14/50\n",
            "782/782 - 95s - 122ms/step - accuracy: 0.6482 - loss: 1.0022 - val_accuracy: 0.7188 - val_loss: 0.8134\n",
            "Epoch 15/50\n",
            "782/782 - 141s - 181ms/step - accuracy: 0.6537 - loss: 0.9880 - val_accuracy: 0.7107 - val_loss: 0.8309\n",
            "Epoch 16/50\n",
            "782/782 - 95s - 121ms/step - accuracy: 0.6572 - loss: 0.9794 - val_accuracy: 0.7050 - val_loss: 0.8340\n",
            "Epoch 17/50\n",
            "782/782 - 95s - 121ms/step - accuracy: 0.6603 - loss: 0.9730 - val_accuracy: 0.7183 - val_loss: 0.8071\n",
            "Epoch 18/50\n",
            "782/782 - 95s - 121ms/step - accuracy: 0.6653 - loss: 0.9616 - val_accuracy: 0.7283 - val_loss: 0.7964\n",
            "Epoch 19/50\n",
            "782/782 - 141s - 181ms/step - accuracy: 0.6674 - loss: 0.9528 - val_accuracy: 0.7105 - val_loss: 0.8383\n",
            "Epoch 20/50\n",
            "782/782 - 144s - 184ms/step - accuracy: 0.6683 - loss: 0.9525 - val_accuracy: 0.7371 - val_loss: 0.7577\n",
            "Epoch 21/50\n",
            "782/782 - 94s - 121ms/step - accuracy: 0.6714 - loss: 0.9391 - val_accuracy: 0.7288 - val_loss: 0.7793\n",
            "Epoch 22/50\n",
            "782/782 - 95s - 121ms/step - accuracy: 0.6750 - loss: 0.9322 - val_accuracy: 0.7204 - val_loss: 0.8073\n",
            "Epoch 23/50\n",
            "782/782 - 95s - 121ms/step - accuracy: 0.6766 - loss: 0.9312 - val_accuracy: 0.7090 - val_loss: 0.8280\n",
            "Epoch 24/50\n",
            "782/782 - 142s - 181ms/step - accuracy: 0.6784 - loss: 0.9202 - val_accuracy: 0.7057 - val_loss: 0.8481\n",
            "Epoch 25/50\n",
            "782/782 - 142s - 182ms/step - accuracy: 0.6790 - loss: 0.9160 - val_accuracy: 0.7171 - val_loss: 0.8251\n",
            "Epoch 26/50\n",
            "782/782 - 143s - 183ms/step - accuracy: 0.6836 - loss: 0.9092 - val_accuracy: 0.7362 - val_loss: 0.7733\n",
            "Epoch 27/50\n",
            "782/782 - 96s - 123ms/step - accuracy: 0.6840 - loss: 0.8988 - val_accuracy: 0.7368 - val_loss: 0.7541\n",
            "Epoch 28/50\n",
            "782/782 - 141s - 180ms/step - accuracy: 0.6858 - loss: 0.8986 - val_accuracy: 0.7273 - val_loss: 0.7925\n",
            "Epoch 29/50\n",
            "782/782 - 143s - 183ms/step - accuracy: 0.6896 - loss: 0.8921 - val_accuracy: 0.7236 - val_loss: 0.8042\n",
            "Epoch 30/50\n",
            "782/782 - 142s - 182ms/step - accuracy: 0.6902 - loss: 0.8883 - val_accuracy: 0.7392 - val_loss: 0.7489\n",
            "Epoch 31/50\n",
            "782/782 - 140s - 179ms/step - accuracy: 0.6929 - loss: 0.8857 - val_accuracy: 0.7551 - val_loss: 0.7202\n",
            "Epoch 32/50\n",
            "782/782 - 94s - 120ms/step - accuracy: 0.6942 - loss: 0.8794 - val_accuracy: 0.7380 - val_loss: 0.7651\n",
            "Epoch 33/50\n",
            "782/782 - 94s - 121ms/step - accuracy: 0.6975 - loss: 0.8792 - val_accuracy: 0.7356 - val_loss: 0.7555\n",
            "Epoch 34/50\n",
            "782/782 - 144s - 184ms/step - accuracy: 0.6963 - loss: 0.8783 - val_accuracy: 0.7344 - val_loss: 0.7801\n",
            "Epoch 35/50\n",
            "782/782 - 142s - 181ms/step - accuracy: 0.6970 - loss: 0.8743 - val_accuracy: 0.7602 - val_loss: 0.7076\n",
            "Epoch 36/50\n",
            "782/782 - 140s - 179ms/step - accuracy: 0.6998 - loss: 0.8678 - val_accuracy: 0.7542 - val_loss: 0.7267\n",
            "Epoch 37/50\n",
            "782/782 - 94s - 120ms/step - accuracy: 0.6988 - loss: 0.8658 - val_accuracy: 0.7543 - val_loss: 0.7089\n",
            "Epoch 38/50\n",
            "782/782 - 95s - 121ms/step - accuracy: 0.7014 - loss: 0.8588 - val_accuracy: 0.7352 - val_loss: 0.7760\n",
            "Epoch 39/50\n",
            "782/782 - 94s - 121ms/step - accuracy: 0.7040 - loss: 0.8523 - val_accuracy: 0.7448 - val_loss: 0.7451\n",
            "Epoch 40/50\n",
            "782/782 - 142s - 181ms/step - accuracy: 0.7030 - loss: 0.8563 - val_accuracy: 0.7397 - val_loss: 0.7809\n",
            "Epoch 41/50\n",
            "782/782 - 142s - 182ms/step - accuracy: 0.7050 - loss: 0.8516 - val_accuracy: 0.7376 - val_loss: 0.7700\n",
            "Epoch 42/50\n",
            "782/782 - 141s - 181ms/step - accuracy: 0.7072 - loss: 0.8500 - val_accuracy: 0.7536 - val_loss: 0.7152\n",
            "Epoch 43/50\n",
            "782/782 - 94s - 121ms/step - accuracy: 0.7083 - loss: 0.8429 - val_accuracy: 0.7384 - val_loss: 0.7647\n",
            "Epoch 44/50\n",
            "782/782 - 142s - 182ms/step - accuracy: 0.7068 - loss: 0.8476 - val_accuracy: 0.7504 - val_loss: 0.7291\n",
            "Epoch 45/50\n",
            "782/782 - 143s - 182ms/step - accuracy: 0.7090 - loss: 0.8410 - val_accuracy: 0.7352 - val_loss: 0.7883\n",
            "Epoch 46/50\n",
            "782/782 - 95s - 122ms/step - accuracy: 0.7114 - loss: 0.8400 - val_accuracy: 0.7542 - val_loss: 0.7275\n",
            "Epoch 47/50\n",
            "782/782 - 141s - 181ms/step - accuracy: 0.7068 - loss: 0.8465 - val_accuracy: 0.7717 - val_loss: 0.6693\n",
            "Epoch 48/50\n",
            "782/782 - 95s - 121ms/step - accuracy: 0.7128 - loss: 0.8326 - val_accuracy: 0.7518 - val_loss: 0.7274\n",
            "Epoch 49/50\n",
            "782/782 - 142s - 182ms/step - accuracy: 0.7117 - loss: 0.8349 - val_accuracy: 0.7639 - val_loss: 0.6985\n",
            "Epoch 50/50\n",
            "782/782 - 142s - 182ms/step - accuracy: 0.7097 - loss: 0.8317 - val_accuracy: 0.7525 - val_loss: 0.7459\n"
          ]
        }
      ]
    },
    {
      "cell_type": "markdown",
      "source": [
        "**Question:**  \n",
        "How does backpropagation update the weights in each layer, and what\n",
        "role does the learning rate play in this process?\n",
        "\n",
        "**Explanation of Backpropagation:**  \n",
        "\n",
        "Weight Updates: During each iteration, the gradients are computed via backpropagation, and weights are adjusted based on the learning rate.  \n",
        "\n",
        "Learning Rate's Role: Determines the magnitude of weight updates. If it's too high, the model might not converge properly."
      ],
      "metadata": {
        "id": "AndIL-c8KIZl"
      }
    },
    {
      "cell_type": "markdown",
      "source": [
        "# **6. Model Evaluation**"
      ],
      "metadata": {
        "id": "XJC4a3s_KQSR"
      }
    },
    {
      "cell_type": "code",
      "source": [
        "import numpy as np\n",
        "import seaborn as sns\n",
        "import matplotlib.pyplot as plt\n",
        "import pandas as pd\n",
        "from sklearn.metrics import classification_report, confusion_matrix\n",
        "\n",
        "# Predictions\n",
        "y_pred = model.predict(x_test)\n",
        "y_pred_classes = np.argmax(y_pred, axis=1)\n",
        "y_true = np.argmax(y_test, axis=1)\n",
        "\n",
        "# Classification Report\n",
        "report = classification_report(y_true, y_pred_classes, output_dict=True)\n",
        "df_classification_report = pd.DataFrame(report).transpose()\n",
        "\n",
        "# Confusion Matrix\n",
        "conf_matrix = confusion_matrix(y_true, y_pred_classes)\n",
        "\n",
        "# Plot Confusion Matrix as Heatmap\n",
        "plt.figure(figsize=(10, 8))\n",
        "sns.heatmap(conf_matrix, annot=True, fmt='d', cmap='Blues', cbar=False,\n",
        "            xticklabels=['Airplane', 'Car', 'Bird', 'Cat', 'Deer', 'Dog', 'Frog', 'Horse', 'Ship', 'Truck'],\n",
        "            yticklabels=['Airplane', 'Car', 'Bird', 'Cat', 'Deer', 'Dog', 'Frog', 'Horse', 'Ship', 'Truck'])\n",
        "plt.xlabel('Predicted')\n",
        "plt.ylabel('True')\n",
        "plt.title('Confusion Matrix')\n",
        "plt.show()\n",
        "\n",
        "# Display Classification Report as Table\n",
        "print(\"\\nClassification Report:\\n\")\n",
        "df_classification_report.style.format(\"{:.2f}\").set_caption(\"Classification Report\").background_gradient(cmap='Blues')\n"
      ],
      "metadata": {
        "colab": {
          "base_uri": "https://localhost:8080/",
          "height": 1000
        },
        "id": "rdF-jV3wMSkU",
        "outputId": "ac3db4d8-cf63-4153-f814-c73d2fc0563d"
      },
      "execution_count": 27,
      "outputs": [
        {
          "output_type": "stream",
          "name": "stdout",
          "text": [
            "\u001b[1m313/313\u001b[0m \u001b[32m━━━━━━━━━━━━━━━━━━━━\u001b[0m\u001b[37m\u001b[0m \u001b[1m4s\u001b[0m 12ms/step\n"
          ]
        },
        {
          "output_type": "display_data",
          "data": {
            "text/plain": [
              "<Figure size 1000x800 with 1 Axes>"
            ],
            "image/png": "[encoded data removed]"
          },
          "metadata": {}
        },
        {
          "output_type": "stream",
          "name": "stdout",
          "text": [
            "\n",
            "Classification Report:\n",
            "\n"
          ]
        },
        {
          "output_type": "execute_result",
          "data": {
            "text/plain": [
              "<pandas.io.formats.style.Styler at 0x7c5cea6cfe80>"
            ],
            "text/html": [
              "<style type=\"text/css\">\n",
              "#T_184ec_row0_col0 {\n",
              "  background-color: #0b559f;\n",
              "  color: #f1f1f1;\n",
              "}\n",
              "#T_184ec_row0_col1 {\n",
              "  background-color: #4090c5;\n",
              "  color: #f1f1f1;\n",
              "}\n",
              "#T_184ec_row0_col2 {\n",
              "  background-color: #2070b4;\n",
              "  color: #f1f1f1;\n",
              "}\n",
              "#T_184ec_row0_col3, #T_184ec_row1_col3, #T_184ec_row2_col3, #T_184ec_row3_col3, #T_184ec_row4_col3, #T_184ec_row5_col3, #T_184ec_row6_col3, #T_184ec_row7_col3, #T_184ec_row8_col3, #T_184ec_row9_col3 {\n",
              "  background-color: #e3eef9;\n",
              "  color: #000000;\n",
              "}\n",
              "#T_184ec_row1_col0 {\n",
              "  background-color: #08509b;\n",
              "  color: #f1f1f1;\n",
              "}\n",
              "#T_184ec_row1_col1 {\n",
              "  background-color: #083d7f;\n",
              "  color: #f1f1f1;\n",
              "}\n",
              "#T_184ec_row1_col2, #T_184ec_row6_col1, #T_184ec_row9_col0, #T_184ec_row11_col3, #T_184ec_row12_col3 {\n",
              "  background-color: #08306b;\n",
              "  color: #f1f1f1;\n",
              "}\n",
              "#T_184ec_row2_col0 {\n",
              "  background-color: #1e6db2;\n",
              "  color: #f1f1f1;\n",
              "}\n",
              "#T_184ec_row2_col1 {\n",
              "  background-color: #b2d2e8;\n",
              "  color: #000000;\n",
              "}\n",
              "#T_184ec_row2_col2 {\n",
              "  background-color: #89bedc;\n",
              "  color: #000000;\n",
              "}\n",
              "#T_184ec_row3_col0 {\n",
              "  background-color: #7ab6d9;\n",
              "  color: #000000;\n",
              "}\n",
              "#T_184ec_row3_col1, #T_184ec_row3_col2, #T_184ec_row6_col0, #T_184ec_row10_col3 {\n",
              "  background-color: #f7fbff;\n",
              "  color: #000000;\n",
              "}\n",
              "#T_184ec_row4_col0, #T_184ec_row4_col1 {\n",
              "  background-color: #5aa2cf;\n",
              "  color: #f1f1f1;\n",
              "}\n",
              "#T_184ec_row4_col2 {\n",
              "  background-color: #549fcd;\n",
              "  color: #f1f1f1;\n",
              "}\n",
              "#T_184ec_row5_col0 {\n",
              "  background-color: #87bddc;\n",
              "  color: #000000;\n",
              "}\n",
              "#T_184ec_row5_col1 {\n",
              "  background-color: #77b5d9;\n",
              "  color: #000000;\n",
              "}\n",
              "#T_184ec_row5_col2 {\n",
              "  background-color: #7db8da;\n",
              "  color: #000000;\n",
              "}\n",
              "#T_184ec_row6_col2 {\n",
              "  background-color: #60a7d2;\n",
              "  color: #f1f1f1;\n",
              "}\n",
              "#T_184ec_row7_col0 {\n",
              "  background-color: #4695c8;\n",
              "  color: #f1f1f1;\n",
              "}\n",
              "#T_184ec_row7_col1 {\n",
              "  background-color: #1562a9;\n",
              "  color: #f1f1f1;\n",
              "}\n",
              "#T_184ec_row7_col2 {\n",
              "  background-color: #1b69af;\n",
              "  color: #f1f1f1;\n",
              "}\n",
              "#T_184ec_row8_col0, #T_184ec_row11_col0, #T_184ec_row12_col0 {\n",
              "  background-color: #4594c7;\n",
              "  color: #f1f1f1;\n",
              "}\n",
              "#T_184ec_row8_col1 {\n",
              "  background-color: #083e81;\n",
              "  color: #f1f1f1;\n",
              "}\n",
              "#T_184ec_row8_col2 {\n",
              "  background-color: #09529d;\n",
              "  color: #f1f1f1;\n",
              "}\n",
              "#T_184ec_row9_col1 {\n",
              "  background-color: #2676b8;\n",
              "  color: #f1f1f1;\n",
              "}\n",
              "#T_184ec_row9_col2 {\n",
              "  background-color: #084d96;\n",
              "  color: #f1f1f1;\n",
              "}\n",
              "#T_184ec_row10_col0 {\n",
              "  background-color: #529dcc;\n",
              "  color: #f1f1f1;\n",
              "}\n",
              "#T_184ec_row10_col1, #T_184ec_row11_col1, #T_184ec_row12_col1 {\n",
              "  background-color: #3e8ec4;\n",
              "  color: #f1f1f1;\n",
              "}\n",
              "#T_184ec_row10_col2 {\n",
              "  background-color: #3d8dc4;\n",
              "  color: #f1f1f1;\n",
              "}\n",
              "#T_184ec_row11_col2, #T_184ec_row12_col2 {\n",
              "  background-color: #4191c6;\n",
              "  color: #f1f1f1;\n",
              "}\n",
              "</style>\n",
              "<table id=\"T_184ec\" class=\"dataframe\">\n",
              "  <caption>Classification Report</caption>\n",
              "  <thead>\n",
              "    <tr>\n",
              "      <th class=\"blank level0\" >&nbsp;</th>\n",
              "      <th id=\"T_184ec_level0_col0\" class=\"col_heading level0 col0\" >precision</th>\n",
              "      <th id=\"T_184ec_level0_col1\" class=\"col_heading level0 col1\" >recall</th>\n",
              "      <th id=\"T_184ec_level0_col2\" class=\"col_heading level0 col2\" >f1-score</th>\n",
              "      <th id=\"T_184ec_level0_col3\" class=\"col_heading level0 col3\" >support</th>\n",
              "    </tr>\n",
              "  </thead>\n",
              "  <tbody>\n",
              "    <tr>\n",
              "      <th id=\"T_184ec_level0_row0\" class=\"row_heading level0 row0\" >0</th>\n",
              "      <td id=\"T_184ec_row0_col0\" class=\"data row0 col0\" >0.84</td>\n",
              "      <td id=\"T_184ec_row0_col1\" class=\"data row0 col1\" >0.75</td>\n",
              "      <td id=\"T_184ec_row0_col2\" class=\"data row0 col2\" >0.79</td>\n",
              "      <td id=\"T_184ec_row0_col3\" class=\"data row0 col3\" >1000.00</td>\n",
              "    </tr>\n",
              "    <tr>\n",
              "      <th id=\"T_184ec_level0_row1\" class=\"row_heading level0 row1\" >1</th>\n",
              "      <td id=\"T_184ec_row1_col0\" class=\"data row1 col0\" >0.85</td>\n",
              "      <td id=\"T_184ec_row1_col1\" class=\"data row1 col1\" >0.92</td>\n",
              "      <td id=\"T_184ec_row1_col2\" class=\"data row1 col2\" >0.88</td>\n",
              "      <td id=\"T_184ec_row1_col3\" class=\"data row1 col3\" >1000.00</td>\n",
              "    </tr>\n",
              "    <tr>\n",
              "      <th id=\"T_184ec_level0_row2\" class=\"row_heading level0 row2\" >2</th>\n",
              "      <td id=\"T_184ec_row2_col0\" class=\"data row2 col0\" >0.81</td>\n",
              "      <td id=\"T_184ec_row2_col1\" class=\"data row2 col1\" >0.57</td>\n",
              "      <td id=\"T_184ec_row2_col2\" class=\"data row2 col2\" >0.67</td>\n",
              "      <td id=\"T_184ec_row2_col3\" class=\"data row2 col3\" >1000.00</td>\n",
              "    </tr>\n",
              "    <tr>\n",
              "      <th id=\"T_184ec_level0_row3\" class=\"row_heading level0 row3\" >3</th>\n",
              "      <td id=\"T_184ec_row3_col0\" class=\"data row3 col0\" >0.72</td>\n",
              "      <td id=\"T_184ec_row3_col1\" class=\"data row3 col1\" >0.40</td>\n",
              "      <td id=\"T_184ec_row3_col2\" class=\"data row3 col2\" >0.52</td>\n",
              "      <td id=\"T_184ec_row3_col3\" class=\"data row3 col3\" >1000.00</td>\n",
              "    </tr>\n",
              "    <tr>\n",
              "      <th id=\"T_184ec_level0_row4\" class=\"row_heading level0 row4\" >4</th>\n",
              "      <td id=\"T_184ec_row4_col0\" class=\"data row4 col0\" >0.75</td>\n",
              "      <td id=\"T_184ec_row4_col1\" class=\"data row4 col1\" >0.71</td>\n",
              "      <td id=\"T_184ec_row4_col2\" class=\"data row4 col2\" >0.73</td>\n",
              "      <td id=\"T_184ec_row4_col3\" class=\"data row4 col3\" >1000.00</td>\n",
              "    </tr>\n",
              "    <tr>\n",
              "      <th id=\"T_184ec_level0_row5\" class=\"row_heading level0 row5\" >5</th>\n",
              "      <td id=\"T_184ec_row5_col0\" class=\"data row5 col0\" >0.71</td>\n",
              "      <td id=\"T_184ec_row5_col1\" class=\"data row5 col1\" >0.66</td>\n",
              "      <td id=\"T_184ec_row5_col2\" class=\"data row5 col2\" >0.68</td>\n",
              "      <td id=\"T_184ec_row5_col3\" class=\"data row5 col3\" >1000.00</td>\n",
              "    </tr>\n",
              "    <tr>\n",
              "      <th id=\"T_184ec_level0_row6\" class=\"row_heading level0 row6\" >6</th>\n",
              "      <td id=\"T_184ec_row6_col0\" class=\"data row6 col0\" >0.57</td>\n",
              "      <td id=\"T_184ec_row6_col1\" class=\"data row6 col1\" >0.95</td>\n",
              "      <td id=\"T_184ec_row6_col2\" class=\"data row6 col2\" >0.71</td>\n",
              "      <td id=\"T_184ec_row6_col3\" class=\"data row6 col3\" >1000.00</td>\n",
              "    </tr>\n",
              "    <tr>\n",
              "      <th id=\"T_184ec_level0_row7\" class=\"row_heading level0 row7\" >7</th>\n",
              "      <td id=\"T_184ec_row7_col0\" class=\"data row7 col0\" >0.76</td>\n",
              "      <td id=\"T_184ec_row7_col1\" class=\"data row7 col1\" >0.84</td>\n",
              "      <td id=\"T_184ec_row7_col2\" class=\"data row7 col2\" >0.80</td>\n",
              "      <td id=\"T_184ec_row7_col3\" class=\"data row7 col3\" >1000.00</td>\n",
              "    </tr>\n",
              "    <tr>\n",
              "      <th id=\"T_184ec_level0_row8\" class=\"row_heading level0 row8\" >8</th>\n",
              "      <td id=\"T_184ec_row8_col0\" class=\"data row8 col0\" >0.77</td>\n",
              "      <td id=\"T_184ec_row8_col1\" class=\"data row8 col1\" >0.92</td>\n",
              "      <td id=\"T_184ec_row8_col2\" class=\"data row8 col2\" >0.83</td>\n",
              "      <td id=\"T_184ec_row8_col3\" class=\"data row8 col3\" >1000.00</td>\n",
              "    </tr>\n",
              "    <tr>\n",
              "      <th id=\"T_184ec_level0_row9\" class=\"row_heading level0 row9\" >9</th>\n",
              "      <td id=\"T_184ec_row9_col0\" class=\"data row9 col0\" >0.89</td>\n",
              "      <td id=\"T_184ec_row9_col1\" class=\"data row9 col1\" >0.80</td>\n",
              "      <td id=\"T_184ec_row9_col2\" class=\"data row9 col2\" >0.84</td>\n",
              "      <td id=\"T_184ec_row9_col3\" class=\"data row9 col3\" >1000.00</td>\n",
              "    </tr>\n",
              "    <tr>\n",
              "      <th id=\"T_184ec_level0_row10\" class=\"row_heading level0 row10\" >accuracy</th>\n",
              "      <td id=\"T_184ec_row10_col0\" class=\"data row10 col0\" >0.75</td>\n",
              "      <td id=\"T_184ec_row10_col1\" class=\"data row10 col1\" >0.75</td>\n",
              "      <td id=\"T_184ec_row10_col2\" class=\"data row10 col2\" >0.75</td>\n",
              "      <td id=\"T_184ec_row10_col3\" class=\"data row10 col3\" >0.75</td>\n",
              "    </tr>\n",
              "    <tr>\n",
              "      <th id=\"T_184ec_level0_row11\" class=\"row_heading level0 row11\" >macro avg</th>\n",
              "      <td id=\"T_184ec_row11_col0\" class=\"data row11 col0\" >0.77</td>\n",
              "      <td id=\"T_184ec_row11_col1\" class=\"data row11 col1\" >0.75</td>\n",
              "      <td id=\"T_184ec_row11_col2\" class=\"data row11 col2\" >0.75</td>\n",
              "      <td id=\"T_184ec_row11_col3\" class=\"data row11 col3\" >10000.00</td>\n",
              "    </tr>\n",
              "    <tr>\n",
              "      <th id=\"T_184ec_level0_row12\" class=\"row_heading level0 row12\" >weighted avg</th>\n",
              "      <td id=\"T_184ec_row12_col0\" class=\"data row12 col0\" >0.77</td>\n",
              "      <td id=\"T_184ec_row12_col1\" class=\"data row12 col1\" >0.75</td>\n",
              "      <td id=\"T_184ec_row12_col2\" class=\"data row12 col2\" >0.75</td>\n",
              "      <td id=\"T_184ec_row12_col3\" class=\"data row12 col3\" >10000.00</td>\n",
              "    </tr>\n",
              "  </tbody>\n",
              "</table>\n"
            ]
          },
          "metadata": {},
          "execution_count": 27
        }
      ]
    },
    {
      "cell_type": "markdown",
      "source": [
        "**Question:**    \n",
        "How can you further improve model performance if the accuracy is low?  \n",
        "**Answer**    \n",
        "To improve model performance with low accuracy, techniques like data augmentation can enhance training data diversity, while hyperparameter tuning can optimize learning rates and batch sizes. Additionally, employing regularization methods and adjusting the model architecture can help reduce overfitting and improve overall accuracy."
      ],
      "metadata": {
        "id": "5FR76bnAsA4Y"
      }
    },
    {
      "cell_type": "markdown",
      "source": [
        "# **7. Optimization Strategies**"
      ],
      "metadata": {
        "id": "h5fUsXF0KXrA"
      }
    },
    {
      "cell_type": "markdown",
      "source": [
        "a. Early Stopping"
      ],
      "metadata": {
        "id": "Sz8KsKejKdLp"
      }
    },
    {
      "cell_type": "code",
      "source": [
        "from tensorflow.keras.callbacks import EarlyStopping\n",
        "\n",
        "early_stopping = EarlyStopping(monitor='val_loss', patience=5, restore_best_weights=True)\n"
      ],
      "metadata": {
        "id": "jEsy6pqSKZUJ"
      },
      "execution_count": 28,
      "outputs": []
    },
    {
      "cell_type": "markdown",
      "source": [
        "b. Learning Rate Scheduling"
      ],
      "metadata": {
        "id": "7habZSzkKfeG"
      }
    },
    {
      "cell_type": "code",
      "source": [
        "from tensorflow.keras.callbacks import ReduceLROnPlateau\n",
        "\n",
        "lr_scheduler = ReduceLROnPlateau(monitor='val_loss', factor=0.1, patience=3)\n"
      ],
      "metadata": {
        "id": "yBiZJwyyKgdu"
      },
      "execution_count": 29,
      "outputs": []
    },
    {
      "cell_type": "markdown",
      "source": [
        "c. Weight Initialization"
      ],
      "metadata": {
        "id": "umHVgBbGKh30"
      }
    },
    {
      "cell_type": "code",
      "source": [
        "from tensorflow.keras.initializers import HeNormal\n",
        "\n",
        "# Modify Conv2D layers\n",
        "model.add(Conv2D(32, (3, 3), activation='relu', kernel_initializer=HeNormal()))\n"
      ],
      "metadata": {
        "id": "J_0azy5wKiVd"
      },
      "execution_count": 36,
      "outputs": []
    },
    {
      "cell_type": "markdown",
      "source": [
        "**Question:**   \n",
        "Why is weight initialization important, and how does it impact the\n",
        "convergence of your network?  \n",
        "\n",
        "**Answer**  \n",
        "Weight initialization is important because it influences the convergence speed and stability of neural networks. Proper initialization helps prevent issues like vanishing or exploding gradients, allowing the network to learn effectively and reach optimal performance more quickly.  "
      ],
      "metadata": {
        "id": "rGdTR1sLqiyO"
      }
    },
    {
      "cell_type": "markdown",
      "source": [
        "# **8. Report**"
      ],
      "metadata": {
        "id": "jf2SoG2HKknw"
      }
    },
    {
      "cell_type": "code",
      "source": [
        "import matplotlib.pyplot as plt\n",
        "\n",
        "# Plot training & validation accuracy\n",
        "plt.plot(history.history['accuracy'])\n",
        "plt.plot(history.history['val_accuracy'])\n",
        "plt.title('Model accuracy')\n",
        "plt.ylabel('Accuracy')\n",
        "plt.xlabel('Epoch')\n",
        "plt.legend(['Train', 'Test'], loc='upper left')\n",
        "plt.show()\n",
        "\n",
        "# Plot training & validation loss\n",
        "plt.plot(history.history['loss'])\n",
        "plt.plot(history.history['val_loss'])\n",
        "plt.title('Model loss')\n",
        "plt.ylabel('Loss')\n",
        "plt.xlabel('Epoch')\n",
        "plt.legend(['Train', 'Test'], loc='upper left')\n",
        "plt.show()\n"
      ],
      "metadata": {
        "colab": {
          "base_uri": "https://localhost:8080/",
          "height": 927
        },
        "id": "vNtQUUVeKl8C",
        "outputId": "3f6eeb82-b0bd-42a6-e896-c59ba947e50e"
      },
      "execution_count": 37,
      "outputs": [
        {
          "output_type": "display_data",
          "data": {
            "text/plain": [
              "<Figure size 640x480 with 1 Axes>"
            ],
            "image/png": "[encoded data removed]"
          },
          "metadata": {}
        },
        {
          "output_type": "display_data",
          "data": {
            "text/plain": [
              "<Figure size 640x480 with 1 Axes>"
            ],
            "image/png": "[encoded data removed]"
          },
          "metadata": {}
        }
      ]
    },
    {
      "cell_type": "markdown",
      "source": [
        "Accuracy Plot: The training and validation accuracy should increase over time, although validation accuracy might plateau.   \n",
        "\n",
        "Loss Plot: The training and validation loss should decrease, although validation loss might flatten or slightly increase if overfitting occurs."
      ],
      "metadata": {
        "id": "0ogIHZvCK8Ad"
      }
    }
  ]
}